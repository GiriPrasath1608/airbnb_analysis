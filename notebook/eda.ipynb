{
 "cells": [
  {
   "cell_type": "code",
   "execution_count": 1,
   "metadata": {},
   "outputs": [
    {
     "data": {
      "text/html": [
       "<div>\n",
       "<style scoped>\n",
       "    .dataframe tbody tr th:only-of-type {\n",
       "        vertical-align: middle;\n",
       "    }\n",
       "\n",
       "    .dataframe tbody tr th {\n",
       "        vertical-align: top;\n",
       "    }\n",
       "\n",
       "    .dataframe thead th {\n",
       "        text-align: right;\n",
       "    }\n",
       "</style>\n",
       "<table border=\"1\" class=\"dataframe\">\n",
       "  <thead>\n",
       "    <tr style=\"text-align: right;\">\n",
       "      <th></th>\n",
       "      <th>Unnamed: 0.1</th>\n",
       "      <th>Unnamed: 0</th>\n",
       "      <th>_id</th>\n",
       "      <th>listing_url</th>\n",
       "      <th>name</th>\n",
       "      <th>summary</th>\n",
       "      <th>space</th>\n",
       "      <th>description</th>\n",
       "      <th>neighborhood_overview</th>\n",
       "      <th>notes</th>\n",
       "      <th>...</th>\n",
       "      <th>cleaning_fee</th>\n",
       "      <th>extra_people</th>\n",
       "      <th>guests_included</th>\n",
       "      <th>images</th>\n",
       "      <th>host</th>\n",
       "      <th>address</th>\n",
       "      <th>availability</th>\n",
       "      <th>review_scores</th>\n",
       "      <th>reviews</th>\n",
       "      <th>overall_rating</th>\n",
       "    </tr>\n",
       "  </thead>\n",
       "  <tbody>\n",
       "    <tr>\n",
       "      <th>0</th>\n",
       "      <td>0</td>\n",
       "      <td>0</td>\n",
       "      <td>1003530</td>\n",
       "      <td>https://www.airbnb.com/rooms/1003530</td>\n",
       "      <td>New York City - Upper West Side Apt</td>\n",
       "      <td>No summary</td>\n",
       "      <td>Murphy bed, optional second bedroom available....</td>\n",
       "      <td>Murphy bed, optional second bedroom available....</td>\n",
       "      <td>Great neighborhood - many terrific restaurants...</td>\n",
       "      <td>My cat, Samantha, are in and out during the su...</td>\n",
       "      <td>...</td>\n",
       "      <td>135.000000</td>\n",
       "      <td>0</td>\n",
       "      <td>1</td>\n",
       "      <td>{'thumbnail_url': '', 'medium_url': '', 'pictu...</td>\n",
       "      <td>{'host_id': '454250', 'host_url': 'https://www...</td>\n",
       "      <td>{'street': 'New York, NY, United States', 'sub...</td>\n",
       "      <td>{'availability_30': 0, 'availability_60': 0, '...</td>\n",
       "      <td>{'review_scores_accuracy': 10, 'review_scores_...</td>\n",
       "      <td>[{'_id': '4351675', 'date': '2013-04-29 04:00:...</td>\n",
       "      <td>94.0</td>\n",
       "    </tr>\n",
       "    <tr>\n",
       "      <th>1</th>\n",
       "      <td>1</td>\n",
       "      <td>1</td>\n",
       "      <td>10059872</td>\n",
       "      <td>https://www.airbnb.com/rooms/10059872</td>\n",
       "      <td>Soho Cozy, Spacious and Convenient</td>\n",
       "      <td>Clean, fully furnish, Spacious 1 bedroom flat ...</td>\n",
       "      <td>Contact Host</td>\n",
       "      <td>Clean, fully furnish, Spacious 1 bedroom flat ...</td>\n",
       "      <td>No overview</td>\n",
       "      <td>Contact Host</td>\n",
       "      <td>...</td>\n",
       "      <td>84.195751</td>\n",
       "      <td>0</td>\n",
       "      <td>1</td>\n",
       "      <td>{'thumbnail_url': '', 'medium_url': '', 'pictu...</td>\n",
       "      <td>{'host_id': '51624384', 'host_url': 'https://w...</td>\n",
       "      <td>{'street': 'Hong Kong, Hong Kong Island, Hong ...</td>\n",
       "      <td>{'availability_30': 0, 'availability_60': 0, '...</td>\n",
       "      <td>{'review_scores_accuracy': 10, 'review_scores_...</td>\n",
       "      <td>[{'_id': '56904633', 'date': '2015-12-19 05:00...</td>\n",
       "      <td>100.0</td>\n",
       "    </tr>\n",
       "    <tr>\n",
       "      <th>2</th>\n",
       "      <td>2</td>\n",
       "      <td>2</td>\n",
       "      <td>10084023</td>\n",
       "      <td>https://www.airbnb.com/rooms/10084023</td>\n",
       "      <td>City center private room with bed</td>\n",
       "      <td>House is located 5mins walk from Sham Shui Po ...</td>\n",
       "      <td>The house is old fashion type, and paint the w...</td>\n",
       "      <td>House is located 5mins walk from Sham Shui Po ...</td>\n",
       "      <td>Cheapest food, electronic device, clothing and...</td>\n",
       "      <td>Deposit of $1000 will be charged and will retu...</td>\n",
       "      <td>...</td>\n",
       "      <td>50.000000</td>\n",
       "      <td>100</td>\n",
       "      <td>1</td>\n",
       "      <td>{'thumbnail_url': '', 'medium_url': '', 'pictu...</td>\n",
       "      <td>{'host_id': '51744313', 'host_url': 'https://w...</td>\n",
       "      <td>{'street': 'Hong Kong , 九龍, Hong Kong', 'subur...</td>\n",
       "      <td>{'availability_30': 14, 'availability_60': 24,...</td>\n",
       "      <td>{'review_scores_accuracy': 10, 'review_scores_...</td>\n",
       "      <td>[{'_id': '57191745', 'date': '2015-12-22 05:00...</td>\n",
       "      <td>92.0</td>\n",
       "    </tr>\n",
       "    <tr>\n",
       "      <th>3</th>\n",
       "      <td>3</td>\n",
       "      <td>3</td>\n",
       "      <td>10091713</td>\n",
       "      <td>https://www.airbnb.com/rooms/10091713</td>\n",
       "      <td>Surry Hills Studio - Your Perfect Base in Sydney</td>\n",
       "      <td>This spacious, light filled studio has everyth...</td>\n",
       "      <td>Comfortable studio with a great layout. The ba...</td>\n",
       "      <td>This spacious, light filled studio has everyth...</td>\n",
       "      <td>Surry Hills is a vibrant eclectic community an...</td>\n",
       "      <td>WiFi, Apple TV with Netflix App (for use with ...</td>\n",
       "      <td>...</td>\n",
       "      <td>50.000000</td>\n",
       "      <td>0</td>\n",
       "      <td>1</td>\n",
       "      <td>{'thumbnail_url': '', 'medium_url': '', 'pictu...</td>\n",
       "      <td>{'host_id': '13764143', 'host_url': 'https://w...</td>\n",
       "      <td>{'street': 'Surry Hills, NSW, Australia', 'sub...</td>\n",
       "      <td>{'availability_30': 0, 'availability_60': 0, '...</td>\n",
       "      <td>{'review_scores_accuracy': 10, 'review_scores_...</td>\n",
       "      <td>[{'_id': '123549502', 'date': '2016-12-29 05:0...</td>\n",
       "      <td>95.0</td>\n",
       "    </tr>\n",
       "    <tr>\n",
       "      <th>4</th>\n",
       "      <td>4</td>\n",
       "      <td>4</td>\n",
       "      <td>10112159</td>\n",
       "      <td>https://www.airbnb.com/rooms/10112159</td>\n",
       "      <td>Downtown Oporto Inn (room cleaning)</td>\n",
       "      <td>Tradicional building, with high ceilings next ...</td>\n",
       "      <td>Cozy, located near the most interesting points...</td>\n",
       "      <td>Tradicional building, with high ceilings next ...</td>\n",
       "      <td>Exciting, urban and dinamic, stay with us, nea...</td>\n",
       "      <td>No private parking.</td>\n",
       "      <td>...</td>\n",
       "      <td>50.000000</td>\n",
       "      <td>25</td>\n",
       "      <td>2</td>\n",
       "      <td>{'thumbnail_url': '', 'medium_url': '', 'pictu...</td>\n",
       "      <td>{'host_id': '2649859', 'host_url': 'https://ww...</td>\n",
       "      <td>{'street': 'Porto, Porto, Portugal', 'suburb':...</td>\n",
       "      <td>{'availability_30': 30, 'availability_60': 60,...</td>\n",
       "      <td>{}</td>\n",
       "      <td>[]</td>\n",
       "      <td>No rating</td>\n",
       "    </tr>\n",
       "    <tr>\n",
       "      <th>...</th>\n",
       "      <td>...</td>\n",
       "      <td>...</td>\n",
       "      <td>...</td>\n",
       "      <td>...</td>\n",
       "      <td>...</td>\n",
       "      <td>...</td>\n",
       "      <td>...</td>\n",
       "      <td>...</td>\n",
       "      <td>...</td>\n",
       "      <td>...</td>\n",
       "      <td>...</td>\n",
       "      <td>...</td>\n",
       "      <td>...</td>\n",
       "      <td>...</td>\n",
       "      <td>...</td>\n",
       "      <td>...</td>\n",
       "      <td>...</td>\n",
       "      <td>...</td>\n",
       "      <td>...</td>\n",
       "      <td>...</td>\n",
       "      <td>...</td>\n",
       "    </tr>\n",
       "    <tr>\n",
       "      <th>5549</th>\n",
       "      <td>5549</td>\n",
       "      <td>5549</td>\n",
       "      <td>9985696</td>\n",
       "      <td>https://www.airbnb.com/rooms/9985696</td>\n",
       "      <td>Kadıköy-Altıyol</td>\n",
       "      <td>Kadıköy merkezde 2+1 dairem vardır.Çok kalabal...</td>\n",
       "      <td>Contact Host</td>\n",
       "      <td>Kadıköy merkezde 2+1 dairem vardır.Çok kalabal...</td>\n",
       "      <td>No overview</td>\n",
       "      <td>Contact Host</td>\n",
       "      <td>...</td>\n",
       "      <td>137.842227</td>\n",
       "      <td>0</td>\n",
       "      <td>1</td>\n",
       "      <td>{'thumbnail_url': '', 'medium_url': '', 'pictu...</td>\n",
       "      <td>{'host_id': '51303748', 'host_url': 'https://w...</td>\n",
       "      <td>{'street': 'Kadıköy, İstanbul, Turkey', 'subur...</td>\n",
       "      <td>{'availability_30': 30, 'availability_60': 60,...</td>\n",
       "      <td>{}</td>\n",
       "      <td>[]</td>\n",
       "      <td>No rating</td>\n",
       "    </tr>\n",
       "    <tr>\n",
       "      <th>5550</th>\n",
       "      <td>5550</td>\n",
       "      <td>5550</td>\n",
       "      <td>9993190</td>\n",
       "      <td>https://www.airbnb.com/rooms/9993190</td>\n",
       "      <td>Just Steps from the Ocean at Premier Platinum ...</td>\n",
       "      <td>Relax Hawaiian Style in Gated Community on Oce...</td>\n",
       "      <td>***NOTE: THE OCEAN INFINITY POOL (\"POOL 1\"0 WI...</td>\n",
       "      <td>Relax Hawaiian Style in Gated Community on Oce...</td>\n",
       "      <td>Location: Located at the south end of Lahaina ...</td>\n",
       "      <td>Puamana Resort requires a $10/day resort fee w...</td>\n",
       "      <td>...</td>\n",
       "      <td>315.000000</td>\n",
       "      <td>0</td>\n",
       "      <td>1</td>\n",
       "      <td>{'thumbnail_url': '', 'medium_url': '', 'pictu...</td>\n",
       "      <td>{'host_id': '51013381', 'host_url': 'https://w...</td>\n",
       "      <td>{'street': 'Lahaina, HI, United States', 'subu...</td>\n",
       "      <td>{'availability_30': 0, 'availability_60': 8, '...</td>\n",
       "      <td>{'review_scores_accuracy': 10, 'review_scores_...</td>\n",
       "      <td>[{'_id': '68762225', 'date': '2016-04-06 04:00...</td>\n",
       "      <td>92</td>\n",
       "    </tr>\n",
       "    <tr>\n",
       "      <th>5551</th>\n",
       "      <td>5551</td>\n",
       "      <td>5551</td>\n",
       "      <td>9887054</td>\n",
       "      <td>https://www.airbnb.com/rooms/9887054</td>\n",
       "      <td>Quarry Bay fully furnished studio C</td>\n",
       "      <td>Newly renovated studio flat with full furniture.</td>\n",
       "      <td>Contact Host</td>\n",
       "      <td>Newly renovated studio flat with full furniture.</td>\n",
       "      <td>No overview</td>\n",
       "      <td>Contact Host</td>\n",
       "      <td>...</td>\n",
       "      <td>84.195751</td>\n",
       "      <td>300</td>\n",
       "      <td>2</td>\n",
       "      <td>{'thumbnail_url': '', 'medium_url': '', 'pictu...</td>\n",
       "      <td>{'host_id': '31386255', 'host_url': 'https://w...</td>\n",
       "      <td>{'street': 'Hong Kong, Hong Kong Island, Hong ...</td>\n",
       "      <td>{'availability_30': 18, 'availability_60': 48,...</td>\n",
       "      <td>{'review_scores_accuracy': 10, 'review_scores_...</td>\n",
       "      <td>[{'_id': '105800033', 'date': '2016-10-02 04:0...</td>\n",
       "      <td>85</td>\n",
       "    </tr>\n",
       "    <tr>\n",
       "      <th>5552</th>\n",
       "      <td>5552</td>\n",
       "      <td>5552</td>\n",
       "      <td>9907907</td>\n",
       "      <td>https://www.airbnb.com/rooms/9907907</td>\n",
       "      <td>Large double room in Bondi</td>\n",
       "      <td>A bright large double room is available in a b...</td>\n",
       "      <td>Contact Host</td>\n",
       "      <td>A bright large double room is available in a b...</td>\n",
       "      <td>No overview</td>\n",
       "      <td>Contact Host</td>\n",
       "      <td>...</td>\n",
       "      <td>50.000000</td>\n",
       "      <td>50</td>\n",
       "      <td>2</td>\n",
       "      <td>{'thumbnail_url': '', 'medium_url': '', 'pictu...</td>\n",
       "      <td>{'host_id': '47615848', 'host_url': 'https://w...</td>\n",
       "      <td>{'street': 'Bondi Beach, NSW, Australia', 'sub...</td>\n",
       "      <td>{'availability_30': 0, 'availability_60': 0, '...</td>\n",
       "      <td>{}</td>\n",
       "      <td>[]</td>\n",
       "      <td>No rating</td>\n",
       "    </tr>\n",
       "    <tr>\n",
       "      <th>5553</th>\n",
       "      <td>5553</td>\n",
       "      <td>5553</td>\n",
       "      <td>9936016</td>\n",
       "      <td>https://www.airbnb.com/rooms/9936016</td>\n",
       "      <td>Alugo Apartamento na Tijuca</td>\n",
       "      <td>Apartamento amplo que acomoda 6 pessoas. Um qu...</td>\n",
       "      <td>Contact Host</td>\n",
       "      <td>Apartamento amplo que acomoda 6 pessoas. Um qu...</td>\n",
       "      <td>No overview</td>\n",
       "      <td>Contact Host</td>\n",
       "      <td>...</td>\n",
       "      <td>84.195751</td>\n",
       "      <td>0</td>\n",
       "      <td>1</td>\n",
       "      <td>{'thumbnail_url': '', 'medium_url': '', 'pictu...</td>\n",
       "      <td>{'host_id': '47092481', 'host_url': 'https://w...</td>\n",
       "      <td>{'street': 'Rio de Janeiro, Rio de Janeiro, Br...</td>\n",
       "      <td>{'availability_30': 0, 'availability_60': 0, '...</td>\n",
       "      <td>{}</td>\n",
       "      <td>[]</td>\n",
       "      <td>No rating</td>\n",
       "    </tr>\n",
       "  </tbody>\n",
       "</table>\n",
       "<p>5554 rows × 39 columns</p>\n",
       "</div>"
      ],
      "text/plain": [
       "      Unnamed: 0.1  Unnamed: 0       _id  \\\n",
       "0                0           0   1003530   \n",
       "1                1           1  10059872   \n",
       "2                2           2  10084023   \n",
       "3                3           3  10091713   \n",
       "4                4           4  10112159   \n",
       "...            ...         ...       ...   \n",
       "5549          5549        5549   9985696   \n",
       "5550          5550        5550   9993190   \n",
       "5551          5551        5551   9887054   \n",
       "5552          5552        5552   9907907   \n",
       "5553          5553        5553   9936016   \n",
       "\n",
       "                                listing_url  \\\n",
       "0      https://www.airbnb.com/rooms/1003530   \n",
       "1     https://www.airbnb.com/rooms/10059872   \n",
       "2     https://www.airbnb.com/rooms/10084023   \n",
       "3     https://www.airbnb.com/rooms/10091713   \n",
       "4     https://www.airbnb.com/rooms/10112159   \n",
       "...                                     ...   \n",
       "5549   https://www.airbnb.com/rooms/9985696   \n",
       "5550   https://www.airbnb.com/rooms/9993190   \n",
       "5551   https://www.airbnb.com/rooms/9887054   \n",
       "5552   https://www.airbnb.com/rooms/9907907   \n",
       "5553   https://www.airbnb.com/rooms/9936016   \n",
       "\n",
       "                                                   name  \\\n",
       "0                   New York City - Upper West Side Apt   \n",
       "1                    Soho Cozy, Spacious and Convenient   \n",
       "2                     City center private room with bed   \n",
       "3      Surry Hills Studio - Your Perfect Base in Sydney   \n",
       "4                   Downtown Oporto Inn (room cleaning)   \n",
       "...                                                 ...   \n",
       "5549                                    Kadıköy-Altıyol   \n",
       "5550  Just Steps from the Ocean at Premier Platinum ...   \n",
       "5551                Quarry Bay fully furnished studio C   \n",
       "5552                         Large double room in Bondi   \n",
       "5553                        Alugo Apartamento na Tijuca   \n",
       "\n",
       "                                                summary  \\\n",
       "0                                            No summary   \n",
       "1     Clean, fully furnish, Spacious 1 bedroom flat ...   \n",
       "2     House is located 5mins walk from Sham Shui Po ...   \n",
       "3     This spacious, light filled studio has everyth...   \n",
       "4     Tradicional building, with high ceilings next ...   \n",
       "...                                                 ...   \n",
       "5549  Kadıköy merkezde 2+1 dairem vardır.Çok kalabal...   \n",
       "5550  Relax Hawaiian Style in Gated Community on Oce...   \n",
       "5551   Newly renovated studio flat with full furniture.   \n",
       "5552  A bright large double room is available in a b...   \n",
       "5553  Apartamento amplo que acomoda 6 pessoas. Um qu...   \n",
       "\n",
       "                                                  space  \\\n",
       "0     Murphy bed, optional second bedroom available....   \n",
       "1                                          Contact Host   \n",
       "2     The house is old fashion type, and paint the w...   \n",
       "3     Comfortable studio with a great layout. The ba...   \n",
       "4     Cozy, located near the most interesting points...   \n",
       "...                                                 ...   \n",
       "5549                                       Contact Host   \n",
       "5550  ***NOTE: THE OCEAN INFINITY POOL (\"POOL 1\"0 WI...   \n",
       "5551                                       Contact Host   \n",
       "5552                                       Contact Host   \n",
       "5553                                       Contact Host   \n",
       "\n",
       "                                            description  \\\n",
       "0     Murphy bed, optional second bedroom available....   \n",
       "1     Clean, fully furnish, Spacious 1 bedroom flat ...   \n",
       "2     House is located 5mins walk from Sham Shui Po ...   \n",
       "3     This spacious, light filled studio has everyth...   \n",
       "4     Tradicional building, with high ceilings next ...   \n",
       "...                                                 ...   \n",
       "5549  Kadıköy merkezde 2+1 dairem vardır.Çok kalabal...   \n",
       "5550  Relax Hawaiian Style in Gated Community on Oce...   \n",
       "5551   Newly renovated studio flat with full furniture.   \n",
       "5552  A bright large double room is available in a b...   \n",
       "5553  Apartamento amplo que acomoda 6 pessoas. Um qu...   \n",
       "\n",
       "                                  neighborhood_overview  \\\n",
       "0     Great neighborhood - many terrific restaurants...   \n",
       "1                                           No overview   \n",
       "2     Cheapest food, electronic device, clothing and...   \n",
       "3     Surry Hills is a vibrant eclectic community an...   \n",
       "4     Exciting, urban and dinamic, stay with us, nea...   \n",
       "...                                                 ...   \n",
       "5549                                        No overview   \n",
       "5550  Location: Located at the south end of Lahaina ...   \n",
       "5551                                        No overview   \n",
       "5552                                        No overview   \n",
       "5553                                        No overview   \n",
       "\n",
       "                                                  notes  ... cleaning_fee  \\\n",
       "0     My cat, Samantha, are in and out during the su...  ...   135.000000   \n",
       "1                                          Contact Host  ...    84.195751   \n",
       "2     Deposit of $1000 will be charged and will retu...  ...    50.000000   \n",
       "3     WiFi, Apple TV with Netflix App (for use with ...  ...    50.000000   \n",
       "4                                   No private parking.  ...    50.000000   \n",
       "...                                                 ...  ...          ...   \n",
       "5549                                       Contact Host  ...   137.842227   \n",
       "5550  Puamana Resort requires a $10/day resort fee w...  ...   315.000000   \n",
       "5551                                       Contact Host  ...    84.195751   \n",
       "5552                                       Contact Host  ...    50.000000   \n",
       "5553                                       Contact Host  ...    84.195751   \n",
       "\n",
       "     extra_people guests_included  \\\n",
       "0               0               1   \n",
       "1               0               1   \n",
       "2             100               1   \n",
       "3               0               1   \n",
       "4              25               2   \n",
       "...           ...             ...   \n",
       "5549            0               1   \n",
       "5550            0               1   \n",
       "5551          300               2   \n",
       "5552           50               2   \n",
       "5553            0               1   \n",
       "\n",
       "                                                 images  \\\n",
       "0     {'thumbnail_url': '', 'medium_url': '', 'pictu...   \n",
       "1     {'thumbnail_url': '', 'medium_url': '', 'pictu...   \n",
       "2     {'thumbnail_url': '', 'medium_url': '', 'pictu...   \n",
       "3     {'thumbnail_url': '', 'medium_url': '', 'pictu...   \n",
       "4     {'thumbnail_url': '', 'medium_url': '', 'pictu...   \n",
       "...                                                 ...   \n",
       "5549  {'thumbnail_url': '', 'medium_url': '', 'pictu...   \n",
       "5550  {'thumbnail_url': '', 'medium_url': '', 'pictu...   \n",
       "5551  {'thumbnail_url': '', 'medium_url': '', 'pictu...   \n",
       "5552  {'thumbnail_url': '', 'medium_url': '', 'pictu...   \n",
       "5553  {'thumbnail_url': '', 'medium_url': '', 'pictu...   \n",
       "\n",
       "                                                   host  \\\n",
       "0     {'host_id': '454250', 'host_url': 'https://www...   \n",
       "1     {'host_id': '51624384', 'host_url': 'https://w...   \n",
       "2     {'host_id': '51744313', 'host_url': 'https://w...   \n",
       "3     {'host_id': '13764143', 'host_url': 'https://w...   \n",
       "4     {'host_id': '2649859', 'host_url': 'https://ww...   \n",
       "...                                                 ...   \n",
       "5549  {'host_id': '51303748', 'host_url': 'https://w...   \n",
       "5550  {'host_id': '51013381', 'host_url': 'https://w...   \n",
       "5551  {'host_id': '31386255', 'host_url': 'https://w...   \n",
       "5552  {'host_id': '47615848', 'host_url': 'https://w...   \n",
       "5553  {'host_id': '47092481', 'host_url': 'https://w...   \n",
       "\n",
       "                                                address  \\\n",
       "0     {'street': 'New York, NY, United States', 'sub...   \n",
       "1     {'street': 'Hong Kong, Hong Kong Island, Hong ...   \n",
       "2     {'street': 'Hong Kong , 九龍, Hong Kong', 'subur...   \n",
       "3     {'street': 'Surry Hills, NSW, Australia', 'sub...   \n",
       "4     {'street': 'Porto, Porto, Portugal', 'suburb':...   \n",
       "...                                                 ...   \n",
       "5549  {'street': 'Kadıköy, İstanbul, Turkey', 'subur...   \n",
       "5550  {'street': 'Lahaina, HI, United States', 'subu...   \n",
       "5551  {'street': 'Hong Kong, Hong Kong Island, Hong ...   \n",
       "5552  {'street': 'Bondi Beach, NSW, Australia', 'sub...   \n",
       "5553  {'street': 'Rio de Janeiro, Rio de Janeiro, Br...   \n",
       "\n",
       "                                           availability  \\\n",
       "0     {'availability_30': 0, 'availability_60': 0, '...   \n",
       "1     {'availability_30': 0, 'availability_60': 0, '...   \n",
       "2     {'availability_30': 14, 'availability_60': 24,...   \n",
       "3     {'availability_30': 0, 'availability_60': 0, '...   \n",
       "4     {'availability_30': 30, 'availability_60': 60,...   \n",
       "...                                                 ...   \n",
       "5549  {'availability_30': 30, 'availability_60': 60,...   \n",
       "5550  {'availability_30': 0, 'availability_60': 8, '...   \n",
       "5551  {'availability_30': 18, 'availability_60': 48,...   \n",
       "5552  {'availability_30': 0, 'availability_60': 0, '...   \n",
       "5553  {'availability_30': 0, 'availability_60': 0, '...   \n",
       "\n",
       "                                          review_scores  \\\n",
       "0     {'review_scores_accuracy': 10, 'review_scores_...   \n",
       "1     {'review_scores_accuracy': 10, 'review_scores_...   \n",
       "2     {'review_scores_accuracy': 10, 'review_scores_...   \n",
       "3     {'review_scores_accuracy': 10, 'review_scores_...   \n",
       "4                                                    {}   \n",
       "...                                                 ...   \n",
       "5549                                                 {}   \n",
       "5550  {'review_scores_accuracy': 10, 'review_scores_...   \n",
       "5551  {'review_scores_accuracy': 10, 'review_scores_...   \n",
       "5552                                                 {}   \n",
       "5553                                                 {}   \n",
       "\n",
       "                                                reviews overall_rating  \n",
       "0     [{'_id': '4351675', 'date': '2013-04-29 04:00:...           94.0  \n",
       "1     [{'_id': '56904633', 'date': '2015-12-19 05:00...          100.0  \n",
       "2     [{'_id': '57191745', 'date': '2015-12-22 05:00...           92.0  \n",
       "3     [{'_id': '123549502', 'date': '2016-12-29 05:0...           95.0  \n",
       "4                                                    []      No rating  \n",
       "...                                                 ...            ...  \n",
       "5549                                                 []      No rating  \n",
       "5550  [{'_id': '68762225', 'date': '2016-04-06 04:00...             92  \n",
       "5551  [{'_id': '105800033', 'date': '2016-10-02 04:0...             85  \n",
       "5552                                                 []      No rating  \n",
       "5553                                                 []      No rating  \n",
       "\n",
       "[5554 rows x 39 columns]"
      ]
     },
     "execution_count": 1,
     "metadata": {},
     "output_type": "execute_result"
    }
   ],
   "source": [
    "import pandas as pd\n",
    "import streamlit as st\n",
    "data = pd.read_csv('airbnb_data.csv')\n",
    "df = pd.DataFrame(data)\n",
    "df"
   ]
  },
  {
   "cell_type": "code",
   "execution_count": 2,
   "metadata": {},
   "outputs": [
    {
     "data": {
      "text/html": [
       "<div>\n",
       "<style scoped>\n",
       "    .dataframe tbody tr th:only-of-type {\n",
       "        vertical-align: middle;\n",
       "    }\n",
       "\n",
       "    .dataframe tbody tr th {\n",
       "        vertical-align: top;\n",
       "    }\n",
       "\n",
       "    .dataframe thead th {\n",
       "        text-align: right;\n",
       "    }\n",
       "</style>\n",
       "<table border=\"1\" class=\"dataframe\">\n",
       "  <thead>\n",
       "    <tr style=\"text-align: right;\">\n",
       "      <th></th>\n",
       "      <th>_id</th>\n",
       "      <th>listing_url</th>\n",
       "      <th>name</th>\n",
       "      <th>summary</th>\n",
       "      <th>space</th>\n",
       "      <th>description</th>\n",
       "      <th>neighborhood_overview</th>\n",
       "      <th>notes</th>\n",
       "      <th>transit</th>\n",
       "      <th>access</th>\n",
       "      <th>...</th>\n",
       "      <th>cleaning_fee</th>\n",
       "      <th>extra_people</th>\n",
       "      <th>guests_included</th>\n",
       "      <th>images</th>\n",
       "      <th>host</th>\n",
       "      <th>address</th>\n",
       "      <th>availability</th>\n",
       "      <th>review_scores</th>\n",
       "      <th>reviews</th>\n",
       "      <th>overall_rating</th>\n",
       "    </tr>\n",
       "  </thead>\n",
       "  <tbody>\n",
       "    <tr>\n",
       "      <th>0</th>\n",
       "      <td>1003530</td>\n",
       "      <td>https://www.airbnb.com/rooms/1003530</td>\n",
       "      <td>New York City - Upper West Side Apt</td>\n",
       "      <td>No summary</td>\n",
       "      <td>Murphy bed, optional second bedroom available....</td>\n",
       "      <td>Murphy bed, optional second bedroom available....</td>\n",
       "      <td>Great neighborhood - many terrific restaurants...</td>\n",
       "      <td>My cat, Samantha, are in and out during the su...</td>\n",
       "      <td>Conveniently located near 1, 2, 3, B &amp; C subwa...</td>\n",
       "      <td>New York City!</td>\n",
       "      <td>...</td>\n",
       "      <td>135.000000</td>\n",
       "      <td>0</td>\n",
       "      <td>1</td>\n",
       "      <td>{'thumbnail_url': '', 'medium_url': '', 'pictu...</td>\n",
       "      <td>{'host_id': '454250', 'host_url': 'https://www...</td>\n",
       "      <td>{'street': 'New York, NY, United States', 'sub...</td>\n",
       "      <td>{'availability_30': 0, 'availability_60': 0, '...</td>\n",
       "      <td>{'review_scores_accuracy': 10, 'review_scores_...</td>\n",
       "      <td>[{'_id': '4351675', 'date': '2013-04-29 04:00:...</td>\n",
       "      <td>94.0</td>\n",
       "    </tr>\n",
       "    <tr>\n",
       "      <th>1</th>\n",
       "      <td>10059872</td>\n",
       "      <td>https://www.airbnb.com/rooms/10059872</td>\n",
       "      <td>Soho Cozy, Spacious and Convenient</td>\n",
       "      <td>Clean, fully furnish, Spacious 1 bedroom flat ...</td>\n",
       "      <td>Contact Host</td>\n",
       "      <td>Clean, fully furnish, Spacious 1 bedroom flat ...</td>\n",
       "      <td>No overview</td>\n",
       "      <td>Contact Host</td>\n",
       "      <td>Contact Host</td>\n",
       "      <td>Contact Host</td>\n",
       "      <td>...</td>\n",
       "      <td>84.195751</td>\n",
       "      <td>0</td>\n",
       "      <td>1</td>\n",
       "      <td>{'thumbnail_url': '', 'medium_url': '', 'pictu...</td>\n",
       "      <td>{'host_id': '51624384', 'host_url': 'https://w...</td>\n",
       "      <td>{'street': 'Hong Kong, Hong Kong Island, Hong ...</td>\n",
       "      <td>{'availability_30': 0, 'availability_60': 0, '...</td>\n",
       "      <td>{'review_scores_accuracy': 10, 'review_scores_...</td>\n",
       "      <td>[{'_id': '56904633', 'date': '2015-12-19 05:00...</td>\n",
       "      <td>100.0</td>\n",
       "    </tr>\n",
       "    <tr>\n",
       "      <th>2</th>\n",
       "      <td>10084023</td>\n",
       "      <td>https://www.airbnb.com/rooms/10084023</td>\n",
       "      <td>City center private room with bed</td>\n",
       "      <td>House is located 5mins walk from Sham Shui Po ...</td>\n",
       "      <td>The house is old fashion type, and paint the w...</td>\n",
       "      <td>House is located 5mins walk from Sham Shui Po ...</td>\n",
       "      <td>Cheapest food, electronic device, clothing and...</td>\n",
       "      <td>Deposit of $1000 will be charged and will retu...</td>\n",
       "      <td>Close to 3 different MTR Station, Sham shui Po...</td>\n",
       "      <td>Living Room , Kitchen and Toilet, All cooking ...</td>\n",
       "      <td>...</td>\n",
       "      <td>50.000000</td>\n",
       "      <td>100</td>\n",
       "      <td>1</td>\n",
       "      <td>{'thumbnail_url': '', 'medium_url': '', 'pictu...</td>\n",
       "      <td>{'host_id': '51744313', 'host_url': 'https://w...</td>\n",
       "      <td>{'street': 'Hong Kong , 九龍, Hong Kong', 'subur...</td>\n",
       "      <td>{'availability_30': 14, 'availability_60': 24,...</td>\n",
       "      <td>{'review_scores_accuracy': 10, 'review_scores_...</td>\n",
       "      <td>[{'_id': '57191745', 'date': '2015-12-22 05:00...</td>\n",
       "      <td>92.0</td>\n",
       "    </tr>\n",
       "    <tr>\n",
       "      <th>3</th>\n",
       "      <td>10091713</td>\n",
       "      <td>https://www.airbnb.com/rooms/10091713</td>\n",
       "      <td>Surry Hills Studio - Your Perfect Base in Sydney</td>\n",
       "      <td>This spacious, light filled studio has everyth...</td>\n",
       "      <td>Comfortable studio with a great layout. The ba...</td>\n",
       "      <td>This spacious, light filled studio has everyth...</td>\n",
       "      <td>Surry Hills is a vibrant eclectic community an...</td>\n",
       "      <td>WiFi, Apple TV with Netflix App (for use with ...</td>\n",
       "      <td>Travel Card 'Opal' travel cards work on all Sy...</td>\n",
       "      <td>You have full use of the entire studio and com...</td>\n",
       "      <td>...</td>\n",
       "      <td>50.000000</td>\n",
       "      <td>0</td>\n",
       "      <td>1</td>\n",
       "      <td>{'thumbnail_url': '', 'medium_url': '', 'pictu...</td>\n",
       "      <td>{'host_id': '13764143', 'host_url': 'https://w...</td>\n",
       "      <td>{'street': 'Surry Hills, NSW, Australia', 'sub...</td>\n",
       "      <td>{'availability_30': 0, 'availability_60': 0, '...</td>\n",
       "      <td>{'review_scores_accuracy': 10, 'review_scores_...</td>\n",
       "      <td>[{'_id': '123549502', 'date': '2016-12-29 05:0...</td>\n",
       "      <td>95.0</td>\n",
       "    </tr>\n",
       "    <tr>\n",
       "      <th>4</th>\n",
       "      <td>10112159</td>\n",
       "      <td>https://www.airbnb.com/rooms/10112159</td>\n",
       "      <td>Downtown Oporto Inn (room cleaning)</td>\n",
       "      <td>Tradicional building, with high ceilings next ...</td>\n",
       "      <td>Cozy, located near the most interesting points...</td>\n",
       "      <td>Tradicional building, with high ceilings next ...</td>\n",
       "      <td>Exciting, urban and dinamic, stay with us, nea...</td>\n",
       "      <td>No private parking.</td>\n",
       "      <td>Next to Trindade subway station, and also to F...</td>\n",
       "      <td>It is a Inn with groundfloor and 1st floor, wi...</td>\n",
       "      <td>...</td>\n",
       "      <td>50.000000</td>\n",
       "      <td>25</td>\n",
       "      <td>2</td>\n",
       "      <td>{'thumbnail_url': '', 'medium_url': '', 'pictu...</td>\n",
       "      <td>{'host_id': '2649859', 'host_url': 'https://ww...</td>\n",
       "      <td>{'street': 'Porto, Porto, Portugal', 'suburb':...</td>\n",
       "      <td>{'availability_30': 30, 'availability_60': 60,...</td>\n",
       "      <td>{}</td>\n",
       "      <td>[]</td>\n",
       "      <td>No rating</td>\n",
       "    </tr>\n",
       "    <tr>\n",
       "      <th>...</th>\n",
       "      <td>...</td>\n",
       "      <td>...</td>\n",
       "      <td>...</td>\n",
       "      <td>...</td>\n",
       "      <td>...</td>\n",
       "      <td>...</td>\n",
       "      <td>...</td>\n",
       "      <td>...</td>\n",
       "      <td>...</td>\n",
       "      <td>...</td>\n",
       "      <td>...</td>\n",
       "      <td>...</td>\n",
       "      <td>...</td>\n",
       "      <td>...</td>\n",
       "      <td>...</td>\n",
       "      <td>...</td>\n",
       "      <td>...</td>\n",
       "      <td>...</td>\n",
       "      <td>...</td>\n",
       "      <td>...</td>\n",
       "      <td>...</td>\n",
       "    </tr>\n",
       "    <tr>\n",
       "      <th>5549</th>\n",
       "      <td>9985696</td>\n",
       "      <td>https://www.airbnb.com/rooms/9985696</td>\n",
       "      <td>Kadıköy-Altıyol</td>\n",
       "      <td>Kadıköy merkezde 2+1 dairem vardır.Çok kalabal...</td>\n",
       "      <td>Contact Host</td>\n",
       "      <td>Kadıköy merkezde 2+1 dairem vardır.Çok kalabal...</td>\n",
       "      <td>No overview</td>\n",
       "      <td>Contact Host</td>\n",
       "      <td>Contact Host</td>\n",
       "      <td>Contact Host</td>\n",
       "      <td>...</td>\n",
       "      <td>137.842227</td>\n",
       "      <td>0</td>\n",
       "      <td>1</td>\n",
       "      <td>{'thumbnail_url': '', 'medium_url': '', 'pictu...</td>\n",
       "      <td>{'host_id': '51303748', 'host_url': 'https://w...</td>\n",
       "      <td>{'street': 'Kadıköy, İstanbul, Turkey', 'subur...</td>\n",
       "      <td>{'availability_30': 30, 'availability_60': 60,...</td>\n",
       "      <td>{}</td>\n",
       "      <td>[]</td>\n",
       "      <td>No rating</td>\n",
       "    </tr>\n",
       "    <tr>\n",
       "      <th>5550</th>\n",
       "      <td>9993190</td>\n",
       "      <td>https://www.airbnb.com/rooms/9993190</td>\n",
       "      <td>Just Steps from the Ocean at Premier Platinum ...</td>\n",
       "      <td>Relax Hawaiian Style in Gated Community on Oce...</td>\n",
       "      <td>***NOTE: THE OCEAN INFINITY POOL (\"POOL 1\"0 WI...</td>\n",
       "      <td>Relax Hawaiian Style in Gated Community on Oce...</td>\n",
       "      <td>Location: Located at the south end of Lahaina ...</td>\n",
       "      <td>Puamana Resort requires a $10/day resort fee w...</td>\n",
       "      <td>You can walk to most attractions within Lahain...</td>\n",
       "      <td>Guests will have access to the 3 pools in the ...</td>\n",
       "      <td>...</td>\n",
       "      <td>315.000000</td>\n",
       "      <td>0</td>\n",
       "      <td>1</td>\n",
       "      <td>{'thumbnail_url': '', 'medium_url': '', 'pictu...</td>\n",
       "      <td>{'host_id': '51013381', 'host_url': 'https://w...</td>\n",
       "      <td>{'street': 'Lahaina, HI, United States', 'subu...</td>\n",
       "      <td>{'availability_30': 0, 'availability_60': 8, '...</td>\n",
       "      <td>{'review_scores_accuracy': 10, 'review_scores_...</td>\n",
       "      <td>[{'_id': '68762225', 'date': '2016-04-06 04:00...</td>\n",
       "      <td>92</td>\n",
       "    </tr>\n",
       "    <tr>\n",
       "      <th>5551</th>\n",
       "      <td>9887054</td>\n",
       "      <td>https://www.airbnb.com/rooms/9887054</td>\n",
       "      <td>Quarry Bay fully furnished studio C</td>\n",
       "      <td>Newly renovated studio flat with full furniture.</td>\n",
       "      <td>Contact Host</td>\n",
       "      <td>Newly renovated studio flat with full furniture.</td>\n",
       "      <td>No overview</td>\n",
       "      <td>Contact Host</td>\n",
       "      <td>Contact Host</td>\n",
       "      <td>Contact Host</td>\n",
       "      <td>...</td>\n",
       "      <td>84.195751</td>\n",
       "      <td>300</td>\n",
       "      <td>2</td>\n",
       "      <td>{'thumbnail_url': '', 'medium_url': '', 'pictu...</td>\n",
       "      <td>{'host_id': '31386255', 'host_url': 'https://w...</td>\n",
       "      <td>{'street': 'Hong Kong, Hong Kong Island, Hong ...</td>\n",
       "      <td>{'availability_30': 18, 'availability_60': 48,...</td>\n",
       "      <td>{'review_scores_accuracy': 10, 'review_scores_...</td>\n",
       "      <td>[{'_id': '105800033', 'date': '2016-10-02 04:0...</td>\n",
       "      <td>85</td>\n",
       "    </tr>\n",
       "    <tr>\n",
       "      <th>5552</th>\n",
       "      <td>9907907</td>\n",
       "      <td>https://www.airbnb.com/rooms/9907907</td>\n",
       "      <td>Large double room in Bondi</td>\n",
       "      <td>A bright large double room is available in a b...</td>\n",
       "      <td>Contact Host</td>\n",
       "      <td>A bright large double room is available in a b...</td>\n",
       "      <td>No overview</td>\n",
       "      <td>Contact Host</td>\n",
       "      <td>The flat is exactly half way between the shops...</td>\n",
       "      <td>Guests will have access to the full residence,...</td>\n",
       "      <td>...</td>\n",
       "      <td>50.000000</td>\n",
       "      <td>50</td>\n",
       "      <td>2</td>\n",
       "      <td>{'thumbnail_url': '', 'medium_url': '', 'pictu...</td>\n",
       "      <td>{'host_id': '47615848', 'host_url': 'https://w...</td>\n",
       "      <td>{'street': 'Bondi Beach, NSW, Australia', 'sub...</td>\n",
       "      <td>{'availability_30': 0, 'availability_60': 0, '...</td>\n",
       "      <td>{}</td>\n",
       "      <td>[]</td>\n",
       "      <td>No rating</td>\n",
       "    </tr>\n",
       "    <tr>\n",
       "      <th>5553</th>\n",
       "      <td>9936016</td>\n",
       "      <td>https://www.airbnb.com/rooms/9936016</td>\n",
       "      <td>Alugo Apartamento na Tijuca</td>\n",
       "      <td>Apartamento amplo que acomoda 6 pessoas. Um qu...</td>\n",
       "      <td>Contact Host</td>\n",
       "      <td>Apartamento amplo que acomoda 6 pessoas. Um qu...</td>\n",
       "      <td>No overview</td>\n",
       "      <td>Contact Host</td>\n",
       "      <td>Contact Host</td>\n",
       "      <td>Contact Host</td>\n",
       "      <td>...</td>\n",
       "      <td>84.195751</td>\n",
       "      <td>0</td>\n",
       "      <td>1</td>\n",
       "      <td>{'thumbnail_url': '', 'medium_url': '', 'pictu...</td>\n",
       "      <td>{'host_id': '47092481', 'host_url': 'https://w...</td>\n",
       "      <td>{'street': 'Rio de Janeiro, Rio de Janeiro, Br...</td>\n",
       "      <td>{'availability_30': 0, 'availability_60': 0, '...</td>\n",
       "      <td>{}</td>\n",
       "      <td>[]</td>\n",
       "      <td>No rating</td>\n",
       "    </tr>\n",
       "  </tbody>\n",
       "</table>\n",
       "<p>5554 rows × 37 columns</p>\n",
       "</div>"
      ],
      "text/plain": [
       "           _id                            listing_url  \\\n",
       "0      1003530   https://www.airbnb.com/rooms/1003530   \n",
       "1     10059872  https://www.airbnb.com/rooms/10059872   \n",
       "2     10084023  https://www.airbnb.com/rooms/10084023   \n",
       "3     10091713  https://www.airbnb.com/rooms/10091713   \n",
       "4     10112159  https://www.airbnb.com/rooms/10112159   \n",
       "...        ...                                    ...   \n",
       "5549   9985696   https://www.airbnb.com/rooms/9985696   \n",
       "5550   9993190   https://www.airbnb.com/rooms/9993190   \n",
       "5551   9887054   https://www.airbnb.com/rooms/9887054   \n",
       "5552   9907907   https://www.airbnb.com/rooms/9907907   \n",
       "5553   9936016   https://www.airbnb.com/rooms/9936016   \n",
       "\n",
       "                                                   name  \\\n",
       "0                   New York City - Upper West Side Apt   \n",
       "1                    Soho Cozy, Spacious and Convenient   \n",
       "2                     City center private room with bed   \n",
       "3      Surry Hills Studio - Your Perfect Base in Sydney   \n",
       "4                   Downtown Oporto Inn (room cleaning)   \n",
       "...                                                 ...   \n",
       "5549                                    Kadıköy-Altıyol   \n",
       "5550  Just Steps from the Ocean at Premier Platinum ...   \n",
       "5551                Quarry Bay fully furnished studio C   \n",
       "5552                         Large double room in Bondi   \n",
       "5553                        Alugo Apartamento na Tijuca   \n",
       "\n",
       "                                                summary  \\\n",
       "0                                            No summary   \n",
       "1     Clean, fully furnish, Spacious 1 bedroom flat ...   \n",
       "2     House is located 5mins walk from Sham Shui Po ...   \n",
       "3     This spacious, light filled studio has everyth...   \n",
       "4     Tradicional building, with high ceilings next ...   \n",
       "...                                                 ...   \n",
       "5549  Kadıköy merkezde 2+1 dairem vardır.Çok kalabal...   \n",
       "5550  Relax Hawaiian Style in Gated Community on Oce...   \n",
       "5551   Newly renovated studio flat with full furniture.   \n",
       "5552  A bright large double room is available in a b...   \n",
       "5553  Apartamento amplo que acomoda 6 pessoas. Um qu...   \n",
       "\n",
       "                                                  space  \\\n",
       "0     Murphy bed, optional second bedroom available....   \n",
       "1                                          Contact Host   \n",
       "2     The house is old fashion type, and paint the w...   \n",
       "3     Comfortable studio with a great layout. The ba...   \n",
       "4     Cozy, located near the most interesting points...   \n",
       "...                                                 ...   \n",
       "5549                                       Contact Host   \n",
       "5550  ***NOTE: THE OCEAN INFINITY POOL (\"POOL 1\"0 WI...   \n",
       "5551                                       Contact Host   \n",
       "5552                                       Contact Host   \n",
       "5553                                       Contact Host   \n",
       "\n",
       "                                            description  \\\n",
       "0     Murphy bed, optional second bedroom available....   \n",
       "1     Clean, fully furnish, Spacious 1 bedroom flat ...   \n",
       "2     House is located 5mins walk from Sham Shui Po ...   \n",
       "3     This spacious, light filled studio has everyth...   \n",
       "4     Tradicional building, with high ceilings next ...   \n",
       "...                                                 ...   \n",
       "5549  Kadıköy merkezde 2+1 dairem vardır.Çok kalabal...   \n",
       "5550  Relax Hawaiian Style in Gated Community on Oce...   \n",
       "5551   Newly renovated studio flat with full furniture.   \n",
       "5552  A bright large double room is available in a b...   \n",
       "5553  Apartamento amplo que acomoda 6 pessoas. Um qu...   \n",
       "\n",
       "                                  neighborhood_overview  \\\n",
       "0     Great neighborhood - many terrific restaurants...   \n",
       "1                                           No overview   \n",
       "2     Cheapest food, electronic device, clothing and...   \n",
       "3     Surry Hills is a vibrant eclectic community an...   \n",
       "4     Exciting, urban and dinamic, stay with us, nea...   \n",
       "...                                                 ...   \n",
       "5549                                        No overview   \n",
       "5550  Location: Located at the south end of Lahaina ...   \n",
       "5551                                        No overview   \n",
       "5552                                        No overview   \n",
       "5553                                        No overview   \n",
       "\n",
       "                                                  notes  \\\n",
       "0     My cat, Samantha, are in and out during the su...   \n",
       "1                                          Contact Host   \n",
       "2     Deposit of $1000 will be charged and will retu...   \n",
       "3     WiFi, Apple TV with Netflix App (for use with ...   \n",
       "4                                   No private parking.   \n",
       "...                                                 ...   \n",
       "5549                                       Contact Host   \n",
       "5550  Puamana Resort requires a $10/day resort fee w...   \n",
       "5551                                       Contact Host   \n",
       "5552                                       Contact Host   \n",
       "5553                                       Contact Host   \n",
       "\n",
       "                                                transit  \\\n",
       "0     Conveniently located near 1, 2, 3, B & C subwa...   \n",
       "1                                          Contact Host   \n",
       "2     Close to 3 different MTR Station, Sham shui Po...   \n",
       "3     Travel Card 'Opal' travel cards work on all Sy...   \n",
       "4     Next to Trindade subway station, and also to F...   \n",
       "...                                                 ...   \n",
       "5549                                       Contact Host   \n",
       "5550  You can walk to most attractions within Lahain...   \n",
       "5551                                       Contact Host   \n",
       "5552  The flat is exactly half way between the shops...   \n",
       "5553                                       Contact Host   \n",
       "\n",
       "                                                 access  ... cleaning_fee  \\\n",
       "0                                        New York City!  ...   135.000000   \n",
       "1                                          Contact Host  ...    84.195751   \n",
       "2     Living Room , Kitchen and Toilet, All cooking ...  ...    50.000000   \n",
       "3     You have full use of the entire studio and com...  ...    50.000000   \n",
       "4     It is a Inn with groundfloor and 1st floor, wi...  ...    50.000000   \n",
       "...                                                 ...  ...          ...   \n",
       "5549                                       Contact Host  ...   137.842227   \n",
       "5550  Guests will have access to the 3 pools in the ...  ...   315.000000   \n",
       "5551                                       Contact Host  ...    84.195751   \n",
       "5552  Guests will have access to the full residence,...  ...    50.000000   \n",
       "5553                                       Contact Host  ...    84.195751   \n",
       "\n",
       "     extra_people guests_included  \\\n",
       "0               0               1   \n",
       "1               0               1   \n",
       "2             100               1   \n",
       "3               0               1   \n",
       "4              25               2   \n",
       "...           ...             ...   \n",
       "5549            0               1   \n",
       "5550            0               1   \n",
       "5551          300               2   \n",
       "5552           50               2   \n",
       "5553            0               1   \n",
       "\n",
       "                                                 images  \\\n",
       "0     {'thumbnail_url': '', 'medium_url': '', 'pictu...   \n",
       "1     {'thumbnail_url': '', 'medium_url': '', 'pictu...   \n",
       "2     {'thumbnail_url': '', 'medium_url': '', 'pictu...   \n",
       "3     {'thumbnail_url': '', 'medium_url': '', 'pictu...   \n",
       "4     {'thumbnail_url': '', 'medium_url': '', 'pictu...   \n",
       "...                                                 ...   \n",
       "5549  {'thumbnail_url': '', 'medium_url': '', 'pictu...   \n",
       "5550  {'thumbnail_url': '', 'medium_url': '', 'pictu...   \n",
       "5551  {'thumbnail_url': '', 'medium_url': '', 'pictu...   \n",
       "5552  {'thumbnail_url': '', 'medium_url': '', 'pictu...   \n",
       "5553  {'thumbnail_url': '', 'medium_url': '', 'pictu...   \n",
       "\n",
       "                                                   host  \\\n",
       "0     {'host_id': '454250', 'host_url': 'https://www...   \n",
       "1     {'host_id': '51624384', 'host_url': 'https://w...   \n",
       "2     {'host_id': '51744313', 'host_url': 'https://w...   \n",
       "3     {'host_id': '13764143', 'host_url': 'https://w...   \n",
       "4     {'host_id': '2649859', 'host_url': 'https://ww...   \n",
       "...                                                 ...   \n",
       "5549  {'host_id': '51303748', 'host_url': 'https://w...   \n",
       "5550  {'host_id': '51013381', 'host_url': 'https://w...   \n",
       "5551  {'host_id': '31386255', 'host_url': 'https://w...   \n",
       "5552  {'host_id': '47615848', 'host_url': 'https://w...   \n",
       "5553  {'host_id': '47092481', 'host_url': 'https://w...   \n",
       "\n",
       "                                                address  \\\n",
       "0     {'street': 'New York, NY, United States', 'sub...   \n",
       "1     {'street': 'Hong Kong, Hong Kong Island, Hong ...   \n",
       "2     {'street': 'Hong Kong , 九龍, Hong Kong', 'subur...   \n",
       "3     {'street': 'Surry Hills, NSW, Australia', 'sub...   \n",
       "4     {'street': 'Porto, Porto, Portugal', 'suburb':...   \n",
       "...                                                 ...   \n",
       "5549  {'street': 'Kadıköy, İstanbul, Turkey', 'subur...   \n",
       "5550  {'street': 'Lahaina, HI, United States', 'subu...   \n",
       "5551  {'street': 'Hong Kong, Hong Kong Island, Hong ...   \n",
       "5552  {'street': 'Bondi Beach, NSW, Australia', 'sub...   \n",
       "5553  {'street': 'Rio de Janeiro, Rio de Janeiro, Br...   \n",
       "\n",
       "                                           availability  \\\n",
       "0     {'availability_30': 0, 'availability_60': 0, '...   \n",
       "1     {'availability_30': 0, 'availability_60': 0, '...   \n",
       "2     {'availability_30': 14, 'availability_60': 24,...   \n",
       "3     {'availability_30': 0, 'availability_60': 0, '...   \n",
       "4     {'availability_30': 30, 'availability_60': 60,...   \n",
       "...                                                 ...   \n",
       "5549  {'availability_30': 30, 'availability_60': 60,...   \n",
       "5550  {'availability_30': 0, 'availability_60': 8, '...   \n",
       "5551  {'availability_30': 18, 'availability_60': 48,...   \n",
       "5552  {'availability_30': 0, 'availability_60': 0, '...   \n",
       "5553  {'availability_30': 0, 'availability_60': 0, '...   \n",
       "\n",
       "                                          review_scores  \\\n",
       "0     {'review_scores_accuracy': 10, 'review_scores_...   \n",
       "1     {'review_scores_accuracy': 10, 'review_scores_...   \n",
       "2     {'review_scores_accuracy': 10, 'review_scores_...   \n",
       "3     {'review_scores_accuracy': 10, 'review_scores_...   \n",
       "4                                                    {}   \n",
       "...                                                 ...   \n",
       "5549                                                 {}   \n",
       "5550  {'review_scores_accuracy': 10, 'review_scores_...   \n",
       "5551  {'review_scores_accuracy': 10, 'review_scores_...   \n",
       "5552                                                 {}   \n",
       "5553                                                 {}   \n",
       "\n",
       "                                                reviews  overall_rating  \n",
       "0     [{'_id': '4351675', 'date': '2013-04-29 04:00:...            94.0  \n",
       "1     [{'_id': '56904633', 'date': '2015-12-19 05:00...           100.0  \n",
       "2     [{'_id': '57191745', 'date': '2015-12-22 05:00...            92.0  \n",
       "3     [{'_id': '123549502', 'date': '2016-12-29 05:0...            95.0  \n",
       "4                                                    []       No rating  \n",
       "...                                                 ...             ...  \n",
       "5549                                                 []       No rating  \n",
       "5550  [{'_id': '68762225', 'date': '2016-04-06 04:00...              92  \n",
       "5551  [{'_id': '105800033', 'date': '2016-10-02 04:0...              85  \n",
       "5552                                                 []       No rating  \n",
       "5553                                                 []       No rating  \n",
       "\n",
       "[5554 rows x 37 columns]"
      ]
     },
     "execution_count": 2,
     "metadata": {},
     "output_type": "execute_result"
    }
   ],
   "source": [
    "df = df.drop(columns=['Unnamed: 0.1','Unnamed: 0'],axis = 1)\n",
    "df"
   ]
  },
  {
   "cell_type": "code",
   "execution_count": 3,
   "metadata": {},
   "outputs": [],
   "source": [
    "import folium\n",
    "country = 'United States'\n",
    "market = 'New York'\n",
    "suburb = 'Manhattan'\n",
    "\n",
    "add_data = pd.read_csv('address.csv')\n",
    "add_df = pd.DataFrame(add_data)\n",
    "\n",
    "result = add_df[(add_df['country']==country)&\n",
    "                       (add_df['market']==market)&\n",
    "                       (add_df['suburb']==suburb)]\n",
    "merged_df = pd.merge(df,result, on = '_id', how = 'inner')"
   ]
  },
  {
   "cell_type": "code",
   "execution_count": 4,
   "metadata": {},
   "outputs": [],
   "source": [
    "import ast\n",
    "for i in range(df.shape[0]):\n",
    "    D = ast.literal_eval(df['review_scores'][i])\n",
    "    df.loc[i,'overall_rating'] = D['review_scores_rating'] if 'review_scores_rating' in D.keys() else 'No rating'"
   ]
  },
  {
   "cell_type": "code",
   "execution_count": 3,
   "metadata": {},
   "outputs": [
    {
     "data": {
      "text/plain": [
       "property_type\n",
       "Apartment                 3626\n",
       "House                      606\n",
       "Condominium                399\n",
       "Serviced apartment         185\n",
       "Loft                       142\n",
       "Townhouse                  108\n",
       "Guest suite                 81\n",
       "Bed and breakfast           68\n",
       "Boutique hotel              53\n",
       "Guesthouse                  50\n",
       "Hostel                      34\n",
       "Villa                       32\n",
       "Hotel                       26\n",
       "Aparthotel                  23\n",
       "Cottage                     20\n",
       "Other                       18\n",
       "Cabin                       15\n",
       "Bungalow                    14\n",
       "Resort                      11\n",
       "Farm stay                    9\n",
       "Casa particular (Cuba)       9\n",
       "Tiny house                   7\n",
       "Boat                         2\n",
       "Nature lodge                 2\n",
       "Chalet                       2\n",
       "Camper/RV                    2\n",
       "Pension (South Korea)        1\n",
       "Houseboat                    1\n",
       "Castle                       1\n",
       "Campsite                     1\n",
       "Treehouse                    1\n",
       "Heritage hotel (India)       1\n",
       "Hut                          1\n",
       "Barn                         1\n",
       "Earth house                  1\n",
       "Train                        1\n",
       "Name: count, dtype: int64"
      ]
     },
     "execution_count": 3,
     "metadata": {},
     "output_type": "execute_result"
    }
   ],
   "source": [
    "merged_df['property_type'].value_counts()"
   ]
  },
  {
   "cell_type": "code",
   "execution_count": 5,
   "metadata": {},
   "outputs": [
    {
     "data": {
      "text/html": [
       "<div>\n",
       "<style scoped>\n",
       "    .dataframe tbody tr th:only-of-type {\n",
       "        vertical-align: middle;\n",
       "    }\n",
       "\n",
       "    .dataframe tbody tr th {\n",
       "        vertical-align: top;\n",
       "    }\n",
       "\n",
       "    .dataframe thead th {\n",
       "        text-align: right;\n",
       "    }\n",
       "</style>\n",
       "<table border=\"1\" class=\"dataframe\">\n",
       "  <thead>\n",
       "    <tr style=\"text-align: right;\">\n",
       "      <th></th>\n",
       "      <th>property_type</th>\n",
       "      <th>count</th>\n",
       "    </tr>\n",
       "  </thead>\n",
       "  <tbody>\n",
       "    <tr>\n",
       "      <th>0</th>\n",
       "      <td>Apartment</td>\n",
       "      <td>132</td>\n",
       "    </tr>\n",
       "    <tr>\n",
       "      <th>1</th>\n",
       "      <td>Condominium</td>\n",
       "      <td>6</td>\n",
       "    </tr>\n",
       "    <tr>\n",
       "      <th>2</th>\n",
       "      <td>Loft</td>\n",
       "      <td>5</td>\n",
       "    </tr>\n",
       "    <tr>\n",
       "      <th>3</th>\n",
       "      <td>House</td>\n",
       "      <td>3</td>\n",
       "    </tr>\n",
       "    <tr>\n",
       "      <th>4</th>\n",
       "      <td>Townhouse</td>\n",
       "      <td>1</td>\n",
       "    </tr>\n",
       "  </tbody>\n",
       "</table>\n",
       "</div>"
      ],
      "text/plain": [
       "  property_type  count\n",
       "0     Apartment    132\n",
       "1   Condominium      6\n",
       "2          Loft      5\n",
       "3         House      3\n",
       "4     Townhouse      1"
      ]
     },
     "execution_count": 5,
     "metadata": {},
     "output_type": "execute_result"
    }
   ],
   "source": [
    "property = merged_df['property_type'].value_counts().to_frame().reset_index()\n",
    "property"
   ]
  },
  {
   "cell_type": "code",
   "execution_count": 7,
   "metadata": {},
   "outputs": [
    {
     "data": {
      "application/vnd.plotly.v1+json": {
       "config": {
        "plotlyServerURL": "https://plot.ly"
       },
       "data": [
        {
         "customdata": [
          [
           132
          ],
          [
           6
          ],
          [
           5
          ],
          [
           3
          ],
          [
           1
          ]
         ],
         "domain": {
          "x": [
           0,
           1
          ],
          "y": [
           0,
           1
          ]
         },
         "hovertemplate": "<b>%{hovertext}</b><br><br>property_type=%{label}<br>count=%{customdata[0]}<extra></extra>",
         "hovertext": [
          "Apartment",
          "Condominium",
          "Loft",
          "House",
          "Townhouse"
         ],
         "labels": [
          "Apartment",
          "Condominium",
          "Loft",
          "House",
          "Townhouse"
         ],
         "legendgroup": "",
         "name": "",
         "showlegend": true,
         "type": "pie",
         "values": [
          132,
          6,
          5,
          3,
          1
         ]
        }
       ],
       "layout": {
        "legend": {
         "tracegroupgap": 0
        },
        "piecolorway": [
         "orange",
         "blue",
         "green",
         "yellow",
         "purple"
        ],
        "template": {
         "data": {
          "candlestick": [
           {
            "decreasing": {
             "line": {
              "color": "#000033"
             }
            },
            "increasing": {
             "line": {
              "color": "#000032"
             }
            },
            "type": "candlestick"
           }
          ],
          "contour": [
           {
            "colorscale": [
             [
              0,
              "#000011"
             ],
             [
              0.1111111111111111,
              "#000012"
             ],
             [
              0.2222222222222222,
              "#000013"
             ],
             [
              0.3333333333333333,
              "#000014"
             ],
             [
              0.4444444444444444,
              "#000015"
             ],
             [
              0.5555555555555556,
              "#000016"
             ],
             [
              0.6666666666666666,
              "#000017"
             ],
             [
              0.7777777777777778,
              "#000018"
             ],
             [
              0.8888888888888888,
              "#000019"
             ],
             [
              1,
              "#000020"
             ]
            ],
            "type": "contour"
           }
          ],
          "contourcarpet": [
           {
            "colorscale": [
             [
              0,
              "#000011"
             ],
             [
              0.1111111111111111,
              "#000012"
             ],
             [
              0.2222222222222222,
              "#000013"
             ],
             [
              0.3333333333333333,
              "#000014"
             ],
             [
              0.4444444444444444,
              "#000015"
             ],
             [
              0.5555555555555556,
              "#000016"
             ],
             [
              0.6666666666666666,
              "#000017"
             ],
             [
              0.7777777777777778,
              "#000018"
             ],
             [
              0.8888888888888888,
              "#000019"
             ],
             [
              1,
              "#000020"
             ]
            ],
            "type": "contourcarpet"
           }
          ],
          "heatmap": [
           {
            "colorscale": [
             [
              0,
              "#000011"
             ],
             [
              0.1111111111111111,
              "#000012"
             ],
             [
              0.2222222222222222,
              "#000013"
             ],
             [
              0.3333333333333333,
              "#000014"
             ],
             [
              0.4444444444444444,
              "#000015"
             ],
             [
              0.5555555555555556,
              "#000016"
             ],
             [
              0.6666666666666666,
              "#000017"
             ],
             [
              0.7777777777777778,
              "#000018"
             ],
             [
              0.8888888888888888,
              "#000019"
             ],
             [
              1,
              "#000020"
             ]
            ],
            "type": "heatmap"
           }
          ],
          "histogram2d": [
           {
            "colorscale": [
             [
              0,
              "#000011"
             ],
             [
              0.1111111111111111,
              "#000012"
             ],
             [
              0.2222222222222222,
              "#000013"
             ],
             [
              0.3333333333333333,
              "#000014"
             ],
             [
              0.4444444444444444,
              "#000015"
             ],
             [
              0.5555555555555556,
              "#000016"
             ],
             [
              0.6666666666666666,
              "#000017"
             ],
             [
              0.7777777777777778,
              "#000018"
             ],
             [
              0.8888888888888888,
              "#000019"
             ],
             [
              1,
              "#000020"
             ]
            ],
            "type": "histogram2d"
           }
          ],
          "icicle": [
           {
            "textfont": {
             "color": "white"
            },
            "type": "icicle"
           }
          ],
          "sankey": [
           {
            "textfont": {
             "color": "#000036"
            },
            "type": "sankey"
           }
          ],
          "scatter": [
           {
            "marker": {
             "line": {
              "width": 0
             }
            },
            "type": "scatter"
           }
          ],
          "table": [
           {
            "cells": {
             "fill": {
              "color": "#000038"
             },
             "font": {
              "color": "#000037"
             },
             "line": {
              "color": "#000039"
             }
            },
            "header": {
             "fill": {
              "color": "#000040"
             },
             "font": {
              "color": "#000036"
             },
             "line": {
              "color": "#000039"
             }
            },
            "type": "table"
           }
          ],
          "waterfall": [
           {
            "connector": {
             "line": {
              "color": "#000036",
              "width": 2
             }
            },
            "decreasing": {
             "marker": {
              "color": "#000033"
             }
            },
            "increasing": {
             "marker": {
              "color": "#000032"
             }
            },
            "totals": {
             "marker": {
              "color": "#000034"
             }
            },
            "type": "waterfall"
           }
          ]
         },
         "layout": {
          "coloraxis": {
           "colorscale": [
            [
             0,
             "#000011"
            ],
            [
             0.1111111111111111,
             "#000012"
            ],
            [
             0.2222222222222222,
             "#000013"
            ],
            [
             0.3333333333333333,
             "#000014"
            ],
            [
             0.4444444444444444,
             "#000015"
            ],
            [
             0.5555555555555556,
             "#000016"
            ],
            [
             0.6666666666666666,
             "#000017"
            ],
            [
             0.7777777777777778,
             "#000018"
            ],
            [
             0.8888888888888888,
             "#000019"
            ],
            [
             1,
             "#000020"
            ]
           ]
          },
          "colorscale": {
           "diverging": [
            [
             0,
             "#000021"
            ],
            [
             0.1,
             "#000022"
            ],
            [
             0.2,
             "#000023"
            ],
            [
             0.3,
             "#000024"
            ],
            [
             0.4,
             "#000025"
            ],
            [
             0.5,
             "#000026"
            ],
            [
             0.6,
             "#000027"
            ],
            [
             0.7,
             "#000028"
            ],
            [
             0.8,
             "#000029"
            ],
            [
             0.9,
             "#000030"
            ],
            [
             1,
             "#000031"
            ]
           ],
           "sequential": [
            [
             0,
             "#000011"
            ],
            [
             0.1111111111111111,
             "#000012"
            ],
            [
             0.2222222222222222,
             "#000013"
            ],
            [
             0.3333333333333333,
             "#000014"
            ],
            [
             0.4444444444444444,
             "#000015"
            ],
            [
             0.5555555555555556,
             "#000016"
            ],
            [
             0.6666666666666666,
             "#000017"
            ],
            [
             0.7777777777777778,
             "#000018"
            ],
            [
             0.8888888888888888,
             "#000019"
            ],
            [
             1,
             "#000020"
            ]
           ],
           "sequentialminus": [
            [
             0,
             "#000011"
            ],
            [
             0.1111111111111111,
             "#000012"
            ],
            [
             0.2222222222222222,
             "#000013"
            ],
            [
             0.3333333333333333,
             "#000014"
            ],
            [
             0.4444444444444444,
             "#000015"
            ],
            [
             0.5555555555555556,
             "#000016"
            ],
            [
             0.6666666666666666,
             "#000017"
            ],
            [
             0.7777777777777778,
             "#000018"
            ],
            [
             0.8888888888888888,
             "#000019"
            ],
            [
             1,
             "#000020"
            ]
           ]
          },
          "colorway": [
           "#000001",
           "#000002",
           "#000003",
           "#000004",
           "#000005",
           "#000006",
           "#000007",
           "#000008",
           "#000009",
           "#000010"
          ]
         }
        },
        "title": {
         "text": "Category Of Property in Manhattan"
        }
       }
      }
     },
     "metadata": {},
     "output_type": "display_data"
    }
   ],
   "source": [
    "import plotly.express as px\n",
    "fig = px.pie(\n",
    "    data_frame = property,\n",
    "    names = 'property_type',\n",
    "    values = 'count',\n",
    "    color_discrete_sequence = ['orange', 'blue', 'green','yellow','purple'],\n",
    "    title = f'Category Of Property in {suburb}',\n",
    "    hover_name = 'property_type',\n",
    "    hover_data = 'count'\n",
    "    ) \n",
    "fig"
   ]
  },
  {
   "cell_type": "code",
   "execution_count": 12,
   "metadata": {},
   "outputs": [
    {
     "data": {
      "text/html": [
       "<div>\n",
       "<style scoped>\n",
       "    .dataframe tbody tr th:only-of-type {\n",
       "        vertical-align: middle;\n",
       "    }\n",
       "\n",
       "    .dataframe tbody tr th {\n",
       "        vertical-align: top;\n",
       "    }\n",
       "\n",
       "    .dataframe thead th {\n",
       "        text-align: right;\n",
       "    }\n",
       "</style>\n",
       "<table border=\"1\" class=\"dataframe\">\n",
       "  <thead>\n",
       "    <tr style=\"text-align: right;\">\n",
       "      <th></th>\n",
       "      <th>property_type</th>\n",
       "      <th>count</th>\n",
       "      <th>percentage</th>\n",
       "    </tr>\n",
       "  </thead>\n",
       "  <tbody>\n",
       "    <tr>\n",
       "      <th>0</th>\n",
       "      <td>Apartment</td>\n",
       "      <td>3626</td>\n",
       "      <td>65.29</td>\n",
       "    </tr>\n",
       "    <tr>\n",
       "      <th>1</th>\n",
       "      <td>House</td>\n",
       "      <td>606</td>\n",
       "      <td>10.91</td>\n",
       "    </tr>\n",
       "    <tr>\n",
       "      <th>2</th>\n",
       "      <td>Condominium</td>\n",
       "      <td>399</td>\n",
       "      <td>7.18</td>\n",
       "    </tr>\n",
       "    <tr>\n",
       "      <th>3</th>\n",
       "      <td>Serviced apartment</td>\n",
       "      <td>185</td>\n",
       "      <td>3.33</td>\n",
       "    </tr>\n",
       "    <tr>\n",
       "      <th>4</th>\n",
       "      <td>Loft</td>\n",
       "      <td>142</td>\n",
       "      <td>2.56</td>\n",
       "    </tr>\n",
       "    <tr>\n",
       "      <th>5</th>\n",
       "      <td>Townhouse</td>\n",
       "      <td>108</td>\n",
       "      <td>1.94</td>\n",
       "    </tr>\n",
       "    <tr>\n",
       "      <th>6</th>\n",
       "      <td>Guest suite</td>\n",
       "      <td>81</td>\n",
       "      <td>1.46</td>\n",
       "    </tr>\n",
       "    <tr>\n",
       "      <th>7</th>\n",
       "      <td>Bed and breakfast</td>\n",
       "      <td>68</td>\n",
       "      <td>1.22</td>\n",
       "    </tr>\n",
       "    <tr>\n",
       "      <th>8</th>\n",
       "      <td>Boutique hotel</td>\n",
       "      <td>53</td>\n",
       "      <td>0.95</td>\n",
       "    </tr>\n",
       "    <tr>\n",
       "      <th>9</th>\n",
       "      <td>Guesthouse</td>\n",
       "      <td>50</td>\n",
       "      <td>0.90</td>\n",
       "    </tr>\n",
       "    <tr>\n",
       "      <th>10</th>\n",
       "      <td>Hostel</td>\n",
       "      <td>34</td>\n",
       "      <td>0.61</td>\n",
       "    </tr>\n",
       "    <tr>\n",
       "      <th>11</th>\n",
       "      <td>Villa</td>\n",
       "      <td>32</td>\n",
       "      <td>0.58</td>\n",
       "    </tr>\n",
       "    <tr>\n",
       "      <th>12</th>\n",
       "      <td>Hotel</td>\n",
       "      <td>26</td>\n",
       "      <td>0.47</td>\n",
       "    </tr>\n",
       "    <tr>\n",
       "      <th>13</th>\n",
       "      <td>Aparthotel</td>\n",
       "      <td>23</td>\n",
       "      <td>0.41</td>\n",
       "    </tr>\n",
       "    <tr>\n",
       "      <th>14</th>\n",
       "      <td>Cottage</td>\n",
       "      <td>20</td>\n",
       "      <td>0.36</td>\n",
       "    </tr>\n",
       "    <tr>\n",
       "      <th>15</th>\n",
       "      <td>Other</td>\n",
       "      <td>18</td>\n",
       "      <td>0.32</td>\n",
       "    </tr>\n",
       "    <tr>\n",
       "      <th>16</th>\n",
       "      <td>Cabin</td>\n",
       "      <td>15</td>\n",
       "      <td>0.27</td>\n",
       "    </tr>\n",
       "    <tr>\n",
       "      <th>17</th>\n",
       "      <td>Bungalow</td>\n",
       "      <td>14</td>\n",
       "      <td>0.25</td>\n",
       "    </tr>\n",
       "    <tr>\n",
       "      <th>18</th>\n",
       "      <td>Resort</td>\n",
       "      <td>11</td>\n",
       "      <td>0.20</td>\n",
       "    </tr>\n",
       "    <tr>\n",
       "      <th>19</th>\n",
       "      <td>Farm stay</td>\n",
       "      <td>9</td>\n",
       "      <td>0.16</td>\n",
       "    </tr>\n",
       "    <tr>\n",
       "      <th>20</th>\n",
       "      <td>Casa particular (Cuba)</td>\n",
       "      <td>9</td>\n",
       "      <td>0.16</td>\n",
       "    </tr>\n",
       "    <tr>\n",
       "      <th>21</th>\n",
       "      <td>Tiny house</td>\n",
       "      <td>7</td>\n",
       "      <td>0.13</td>\n",
       "    </tr>\n",
       "    <tr>\n",
       "      <th>22</th>\n",
       "      <td>Boat</td>\n",
       "      <td>2</td>\n",
       "      <td>0.04</td>\n",
       "    </tr>\n",
       "    <tr>\n",
       "      <th>23</th>\n",
       "      <td>Nature lodge</td>\n",
       "      <td>2</td>\n",
       "      <td>0.04</td>\n",
       "    </tr>\n",
       "    <tr>\n",
       "      <th>24</th>\n",
       "      <td>Chalet</td>\n",
       "      <td>2</td>\n",
       "      <td>0.04</td>\n",
       "    </tr>\n",
       "    <tr>\n",
       "      <th>25</th>\n",
       "      <td>Camper/RV</td>\n",
       "      <td>2</td>\n",
       "      <td>0.04</td>\n",
       "    </tr>\n",
       "    <tr>\n",
       "      <th>26</th>\n",
       "      <td>Pension (South Korea)</td>\n",
       "      <td>1</td>\n",
       "      <td>0.02</td>\n",
       "    </tr>\n",
       "    <tr>\n",
       "      <th>27</th>\n",
       "      <td>Houseboat</td>\n",
       "      <td>1</td>\n",
       "      <td>0.02</td>\n",
       "    </tr>\n",
       "    <tr>\n",
       "      <th>28</th>\n",
       "      <td>Castle</td>\n",
       "      <td>1</td>\n",
       "      <td>0.02</td>\n",
       "    </tr>\n",
       "    <tr>\n",
       "      <th>29</th>\n",
       "      <td>Campsite</td>\n",
       "      <td>1</td>\n",
       "      <td>0.02</td>\n",
       "    </tr>\n",
       "    <tr>\n",
       "      <th>30</th>\n",
       "      <td>Treehouse</td>\n",
       "      <td>1</td>\n",
       "      <td>0.02</td>\n",
       "    </tr>\n",
       "    <tr>\n",
       "      <th>31</th>\n",
       "      <td>Heritage hotel (India)</td>\n",
       "      <td>1</td>\n",
       "      <td>0.02</td>\n",
       "    </tr>\n",
       "    <tr>\n",
       "      <th>32</th>\n",
       "      <td>Hut</td>\n",
       "      <td>1</td>\n",
       "      <td>0.02</td>\n",
       "    </tr>\n",
       "    <tr>\n",
       "      <th>33</th>\n",
       "      <td>Barn</td>\n",
       "      <td>1</td>\n",
       "      <td>0.02</td>\n",
       "    </tr>\n",
       "    <tr>\n",
       "      <th>34</th>\n",
       "      <td>Earth house</td>\n",
       "      <td>1</td>\n",
       "      <td>0.02</td>\n",
       "    </tr>\n",
       "    <tr>\n",
       "      <th>35</th>\n",
       "      <td>Train</td>\n",
       "      <td>1</td>\n",
       "      <td>0.02</td>\n",
       "    </tr>\n",
       "  </tbody>\n",
       "</table>\n",
       "</div>"
      ],
      "text/plain": [
       "             property_type  count  percentage\n",
       "0                Apartment   3626       65.29\n",
       "1                    House    606       10.91\n",
       "2              Condominium    399        7.18\n",
       "3       Serviced apartment    185        3.33\n",
       "4                     Loft    142        2.56\n",
       "5                Townhouse    108        1.94\n",
       "6              Guest suite     81        1.46\n",
       "7        Bed and breakfast     68        1.22\n",
       "8           Boutique hotel     53        0.95\n",
       "9               Guesthouse     50        0.90\n",
       "10                  Hostel     34        0.61\n",
       "11                   Villa     32        0.58\n",
       "12                   Hotel     26        0.47\n",
       "13              Aparthotel     23        0.41\n",
       "14                 Cottage     20        0.36\n",
       "15                   Other     18        0.32\n",
       "16                   Cabin     15        0.27\n",
       "17                Bungalow     14        0.25\n",
       "18                  Resort     11        0.20\n",
       "19               Farm stay      9        0.16\n",
       "20  Casa particular (Cuba)      9        0.16\n",
       "21              Tiny house      7        0.13\n",
       "22                    Boat      2        0.04\n",
       "23            Nature lodge      2        0.04\n",
       "24                  Chalet      2        0.04\n",
       "25               Camper/RV      2        0.04\n",
       "26   Pension (South Korea)      1        0.02\n",
       "27               Houseboat      1        0.02\n",
       "28                  Castle      1        0.02\n",
       "29                Campsite      1        0.02\n",
       "30               Treehouse      1        0.02\n",
       "31  Heritage hotel (India)      1        0.02\n",
       "32                     Hut      1        0.02\n",
       "33                    Barn      1        0.02\n",
       "34             Earth house      1        0.02\n",
       "35                   Train      1        0.02"
      ]
     },
     "execution_count": 12,
     "metadata": {},
     "output_type": "execute_result"
    }
   ],
   "source": [
    "total_property = df['property_type'].value_counts().to_frame().reset_index()\n",
    "per_sum = total_property['count'].sum()\n",
    "for i in range(total_property.shape[0]):\n",
    "    total_property.loc[i,'percentage'] = round((total_property.loc[i,'count']/per_sum)*100,2)\n",
    "total_property"
   ]
  },
  {
   "cell_type": "code",
   "execution_count": 21,
   "metadata": {},
   "outputs": [
    {
     "data": {
      "application/vnd.plotly.v1+json": {
       "config": {
        "plotlyServerURL": "https://plot.ly"
       },
       "data": [
        {
         "alignmentgroup": "True",
         "customdata": [
          [
           3626
          ],
          [
           606
          ],
          [
           399
          ],
          [
           185
          ],
          [
           142
          ],
          [
           108
          ],
          [
           81
          ],
          [
           68
          ],
          [
           53
          ],
          [
           50
          ],
          [
           34
          ],
          [
           32
          ],
          [
           26
          ],
          [
           23
          ],
          [
           20
          ],
          [
           18
          ],
          [
           15
          ],
          [
           14
          ],
          [
           11
          ],
          [
           9
          ],
          [
           9
          ],
          [
           7
          ],
          [
           2
          ],
          [
           2
          ],
          [
           2
          ],
          [
           2
          ],
          [
           1
          ],
          [
           1
          ],
          [
           1
          ],
          [
           1
          ],
          [
           1
          ],
          [
           1
          ],
          [
           1
          ],
          [
           1
          ],
          [
           1
          ],
          [
           1
          ]
         ],
         "hovertemplate": "property_type=%{x}<br>percentage=%{text}<br>count=%{customdata[0]}<extra></extra>",
         "legendgroup": "",
         "marker": {
          "color": "#636EFA",
          "pattern": {
           "shape": ""
          }
         },
         "name": "",
         "offsetgroup": "",
         "orientation": "v",
         "showlegend": false,
         "text": [
          65.29,
          10.91,
          7.18,
          3.33,
          2.56,
          1.94,
          1.46,
          1.22,
          0.95,
          0.9,
          0.61,
          0.58,
          0.47,
          0.41,
          0.36,
          0.32,
          0.27,
          0.25,
          0.2,
          0.16,
          0.16,
          0.13,
          0.04,
          0.04,
          0.04,
          0.04,
          0.02,
          0.02,
          0.02,
          0.02,
          0.02,
          0.02,
          0.02,
          0.02,
          0.02,
          0.02
         ],
         "textposition": "auto",
         "type": "bar",
         "x": [
          "Apartment",
          "House",
          "Condominium",
          "Serviced apartment",
          "Loft",
          "Townhouse",
          "Guest suite",
          "Bed and breakfast",
          "Boutique hotel",
          "Guesthouse",
          "Hostel",
          "Villa",
          "Hotel",
          "Aparthotel",
          "Cottage",
          "Other",
          "Cabin",
          "Bungalow",
          "Resort",
          "Farm stay",
          "Casa particular (Cuba)",
          "Tiny house",
          "Boat",
          "Nature lodge",
          "Chalet",
          "Camper/RV",
          "Pension (South Korea)",
          "Houseboat",
          "Castle",
          "Campsite",
          "Treehouse",
          "Heritage hotel (India)",
          "Hut",
          "Barn",
          "Earth house",
          "Train"
         ],
         "xaxis": "x",
         "y": [
          65.29,
          10.91,
          7.18,
          3.33,
          2.56,
          1.94,
          1.46,
          1.22,
          0.95,
          0.9,
          0.61,
          0.58,
          0.47,
          0.41,
          0.36,
          0.32,
          0.27,
          0.25,
          0.2,
          0.16,
          0.16,
          0.13,
          0.04,
          0.04,
          0.04,
          0.04,
          0.02,
          0.02,
          0.02,
          0.02,
          0.02,
          0.02,
          0.02,
          0.02,
          0.02,
          0.02
         ],
         "yaxis": "y"
        }
       ],
       "layout": {
        "barmode": "relative",
        "legend": {
         "tracegroupgap": 0
        },
        "margin": {
         "t": 60
        },
        "template": {
         "data": {
          "candlestick": [
           {
            "decreasing": {
             "line": {
              "color": "#000033"
             }
            },
            "increasing": {
             "line": {
              "color": "#000032"
             }
            },
            "type": "candlestick"
           }
          ],
          "contour": [
           {
            "colorscale": [
             [
              0,
              "#000011"
             ],
             [
              0.1111111111111111,
              "#000012"
             ],
             [
              0.2222222222222222,
              "#000013"
             ],
             [
              0.3333333333333333,
              "#000014"
             ],
             [
              0.4444444444444444,
              "#000015"
             ],
             [
              0.5555555555555556,
              "#000016"
             ],
             [
              0.6666666666666666,
              "#000017"
             ],
             [
              0.7777777777777778,
              "#000018"
             ],
             [
              0.8888888888888888,
              "#000019"
             ],
             [
              1,
              "#000020"
             ]
            ],
            "type": "contour"
           }
          ],
          "contourcarpet": [
           {
            "colorscale": [
             [
              0,
              "#000011"
             ],
             [
              0.1111111111111111,
              "#000012"
             ],
             [
              0.2222222222222222,
              "#000013"
             ],
             [
              0.3333333333333333,
              "#000014"
             ],
             [
              0.4444444444444444,
              "#000015"
             ],
             [
              0.5555555555555556,
              "#000016"
             ],
             [
              0.6666666666666666,
              "#000017"
             ],
             [
              0.7777777777777778,
              "#000018"
             ],
             [
              0.8888888888888888,
              "#000019"
             ],
             [
              1,
              "#000020"
             ]
            ],
            "type": "contourcarpet"
           }
          ],
          "heatmap": [
           {
            "colorscale": [
             [
              0,
              "#000011"
             ],
             [
              0.1111111111111111,
              "#000012"
             ],
             [
              0.2222222222222222,
              "#000013"
             ],
             [
              0.3333333333333333,
              "#000014"
             ],
             [
              0.4444444444444444,
              "#000015"
             ],
             [
              0.5555555555555556,
              "#000016"
             ],
             [
              0.6666666666666666,
              "#000017"
             ],
             [
              0.7777777777777778,
              "#000018"
             ],
             [
              0.8888888888888888,
              "#000019"
             ],
             [
              1,
              "#000020"
             ]
            ],
            "type": "heatmap"
           }
          ],
          "histogram2d": [
           {
            "colorscale": [
             [
              0,
              "#000011"
             ],
             [
              0.1111111111111111,
              "#000012"
             ],
             [
              0.2222222222222222,
              "#000013"
             ],
             [
              0.3333333333333333,
              "#000014"
             ],
             [
              0.4444444444444444,
              "#000015"
             ],
             [
              0.5555555555555556,
              "#000016"
             ],
             [
              0.6666666666666666,
              "#000017"
             ],
             [
              0.7777777777777778,
              "#000018"
             ],
             [
              0.8888888888888888,
              "#000019"
             ],
             [
              1,
              "#000020"
             ]
            ],
            "type": "histogram2d"
           }
          ],
          "icicle": [
           {
            "textfont": {
             "color": "white"
            },
            "type": "icicle"
           }
          ],
          "sankey": [
           {
            "textfont": {
             "color": "#000036"
            },
            "type": "sankey"
           }
          ],
          "scatter": [
           {
            "marker": {
             "line": {
              "width": 0
             }
            },
            "type": "scatter"
           }
          ],
          "table": [
           {
            "cells": {
             "fill": {
              "color": "#000038"
             },
             "font": {
              "color": "#000037"
             },
             "line": {
              "color": "#000039"
             }
            },
            "header": {
             "fill": {
              "color": "#000040"
             },
             "font": {
              "color": "#000036"
             },
             "line": {
              "color": "#000039"
             }
            },
            "type": "table"
           }
          ],
          "waterfall": [
           {
            "connector": {
             "line": {
              "color": "#000036",
              "width": 2
             }
            },
            "decreasing": {
             "marker": {
              "color": "#000033"
             }
            },
            "increasing": {
             "marker": {
              "color": "#000032"
             }
            },
            "totals": {
             "marker": {
              "color": "#000034"
             }
            },
            "type": "waterfall"
           }
          ]
         },
         "layout": {
          "coloraxis": {
           "colorscale": [
            [
             0,
             "#000011"
            ],
            [
             0.1111111111111111,
             "#000012"
            ],
            [
             0.2222222222222222,
             "#000013"
            ],
            [
             0.3333333333333333,
             "#000014"
            ],
            [
             0.4444444444444444,
             "#000015"
            ],
            [
             0.5555555555555556,
             "#000016"
            ],
            [
             0.6666666666666666,
             "#000017"
            ],
            [
             0.7777777777777778,
             "#000018"
            ],
            [
             0.8888888888888888,
             "#000019"
            ],
            [
             1,
             "#000020"
            ]
           ]
          },
          "colorscale": {
           "diverging": [
            [
             0,
             "#000021"
            ],
            [
             0.1,
             "#000022"
            ],
            [
             0.2,
             "#000023"
            ],
            [
             0.3,
             "#000024"
            ],
            [
             0.4,
             "#000025"
            ],
            [
             0.5,
             "#000026"
            ],
            [
             0.6,
             "#000027"
            ],
            [
             0.7,
             "#000028"
            ],
            [
             0.8,
             "#000029"
            ],
            [
             0.9,
             "#000030"
            ],
            [
             1,
             "#000031"
            ]
           ],
           "sequential": [
            [
             0,
             "#000011"
            ],
            [
             0.1111111111111111,
             "#000012"
            ],
            [
             0.2222222222222222,
             "#000013"
            ],
            [
             0.3333333333333333,
             "#000014"
            ],
            [
             0.4444444444444444,
             "#000015"
            ],
            [
             0.5555555555555556,
             "#000016"
            ],
            [
             0.6666666666666666,
             "#000017"
            ],
            [
             0.7777777777777778,
             "#000018"
            ],
            [
             0.8888888888888888,
             "#000019"
            ],
            [
             1,
             "#000020"
            ]
           ],
           "sequentialminus": [
            [
             0,
             "#000011"
            ],
            [
             0.1111111111111111,
             "#000012"
            ],
            [
             0.2222222222222222,
             "#000013"
            ],
            [
             0.3333333333333333,
             "#000014"
            ],
            [
             0.4444444444444444,
             "#000015"
            ],
            [
             0.5555555555555556,
             "#000016"
            ],
            [
             0.6666666666666666,
             "#000017"
            ],
            [
             0.7777777777777778,
             "#000018"
            ],
            [
             0.8888888888888888,
             "#000019"
            ],
            [
             1,
             "#000020"
            ]
           ]
          },
          "colorway": [
           "#000001",
           "#000002",
           "#000003",
           "#000004",
           "#000005",
           "#000006",
           "#000007",
           "#000008",
           "#000009",
           "#000010"
          ]
         }
        },
        "xaxis": {
         "anchor": "y",
         "domain": [
          0,
          1
         ],
         "title": {
          "text": "property_type"
         }
        },
        "yaxis": {
         "anchor": "x",
         "domain": [
          0,
          1
         ],
         "title": {
          "text": "percentage"
         }
        }
       }
      }
     },
     "metadata": {},
     "output_type": "display_data"
    }
   ],
   "source": [
    "color_sequence = px.colors.qualitative.Plotly\n",
    "fig = px.bar(data_frame = total_property,\n",
    "            x = 'property_type',\n",
    "            y = 'percentage',\n",
    "            hover_data = 'count',\n",
    "            text = 'percentage',\n",
    "            color_discrete_sequence=color_sequence\n",
    "            )\n",
    "fig"
   ]
  },
  {
   "cell_type": "code",
   "execution_count": 24,
   "metadata": {},
   "outputs": [
    {
     "data": {
      "application/vnd.plotly.v1+json": {
       "config": {
        "plotlyServerURL": "https://plot.ly"
       },
       "data": [
        {
         "alignmentgroup": "True",
         "customdata": [
          [
           489
          ],
          [
           47
          ],
          [
           24
          ],
          [
           19
          ],
          [
           19
          ],
          [
           2
          ],
          [
           2
          ],
          [
           1
          ],
          [
           1
          ],
          [
           1
          ],
          [
           1
          ],
          [
           1
          ]
         ],
         "hovertemplate": "property_type=%{x}<br>percentage=%{text}<br>count=%{customdata[0]}<extra></extra>",
         "legendgroup": "",
         "marker": {
          "color": "#636EFA",
          "pattern": {
           "shape": ""
          }
         },
         "name": "",
         "offsetgroup": "",
         "orientation": "v",
         "showlegend": false,
         "text": [
          80.56,
          7.74,
          3.95,
          3.13,
          3.13,
          0.33,
          0.33,
          0.16,
          0.16,
          0.16,
          0.16,
          0.16
         ],
         "textposition": "auto",
         "type": "bar",
         "x": [
          "Apartment",
          "House",
          "Townhouse",
          "Condominium",
          "Loft",
          "Guest suite",
          "Guesthouse",
          "Aparthotel",
          "Other",
          "Hostel",
          "Serviced apartment",
          "Villa"
         ],
         "xaxis": "x",
         "y": [
          80.56,
          7.74,
          3.95,
          3.13,
          3.13,
          0.33,
          0.33,
          0.16,
          0.16,
          0.16,
          0.16,
          0.16
         ],
         "yaxis": "y"
        }
       ],
       "layout": {
        "barmode": "relative",
        "legend": {
         "tracegroupgap": 0
        },
        "margin": {
         "t": 60
        },
        "template": {
         "data": {
          "candlestick": [
           {
            "decreasing": {
             "line": {
              "color": "#000033"
             }
            },
            "increasing": {
             "line": {
              "color": "#000032"
             }
            },
            "type": "candlestick"
           }
          ],
          "contour": [
           {
            "colorscale": [
             [
              0,
              "#000011"
             ],
             [
              0.1111111111111111,
              "#000012"
             ],
             [
              0.2222222222222222,
              "#000013"
             ],
             [
              0.3333333333333333,
              "#000014"
             ],
             [
              0.4444444444444444,
              "#000015"
             ],
             [
              0.5555555555555556,
              "#000016"
             ],
             [
              0.6666666666666666,
              "#000017"
             ],
             [
              0.7777777777777778,
              "#000018"
             ],
             [
              0.8888888888888888,
              "#000019"
             ],
             [
              1,
              "#000020"
             ]
            ],
            "type": "contour"
           }
          ],
          "contourcarpet": [
           {
            "colorscale": [
             [
              0,
              "#000011"
             ],
             [
              0.1111111111111111,
              "#000012"
             ],
             [
              0.2222222222222222,
              "#000013"
             ],
             [
              0.3333333333333333,
              "#000014"
             ],
             [
              0.4444444444444444,
              "#000015"
             ],
             [
              0.5555555555555556,
              "#000016"
             ],
             [
              0.6666666666666666,
              "#000017"
             ],
             [
              0.7777777777777778,
              "#000018"
             ],
             [
              0.8888888888888888,
              "#000019"
             ],
             [
              1,
              "#000020"
             ]
            ],
            "type": "contourcarpet"
           }
          ],
          "heatmap": [
           {
            "colorscale": [
             [
              0,
              "#000011"
             ],
             [
              0.1111111111111111,
              "#000012"
             ],
             [
              0.2222222222222222,
              "#000013"
             ],
             [
              0.3333333333333333,
              "#000014"
             ],
             [
              0.4444444444444444,
              "#000015"
             ],
             [
              0.5555555555555556,
              "#000016"
             ],
             [
              0.6666666666666666,
              "#000017"
             ],
             [
              0.7777777777777778,
              "#000018"
             ],
             [
              0.8888888888888888,
              "#000019"
             ],
             [
              1,
              "#000020"
             ]
            ],
            "type": "heatmap"
           }
          ],
          "histogram2d": [
           {
            "colorscale": [
             [
              0,
              "#000011"
             ],
             [
              0.1111111111111111,
              "#000012"
             ],
             [
              0.2222222222222222,
              "#000013"
             ],
             [
              0.3333333333333333,
              "#000014"
             ],
             [
              0.4444444444444444,
              "#000015"
             ],
             [
              0.5555555555555556,
              "#000016"
             ],
             [
              0.6666666666666666,
              "#000017"
             ],
             [
              0.7777777777777778,
              "#000018"
             ],
             [
              0.8888888888888888,
              "#000019"
             ],
             [
              1,
              "#000020"
             ]
            ],
            "type": "histogram2d"
           }
          ],
          "icicle": [
           {
            "textfont": {
             "color": "white"
            },
            "type": "icicle"
           }
          ],
          "sankey": [
           {
            "textfont": {
             "color": "#000036"
            },
            "type": "sankey"
           }
          ],
          "scatter": [
           {
            "marker": {
             "line": {
              "width": 0
             }
            },
            "type": "scatter"
           }
          ],
          "table": [
           {
            "cells": {
             "fill": {
              "color": "#000038"
             },
             "font": {
              "color": "#000037"
             },
             "line": {
              "color": "#000039"
             }
            },
            "header": {
             "fill": {
              "color": "#000040"
             },
             "font": {
              "color": "#000036"
             },
             "line": {
              "color": "#000039"
             }
            },
            "type": "table"
           }
          ],
          "waterfall": [
           {
            "connector": {
             "line": {
              "color": "#000036",
              "width": 2
             }
            },
            "decreasing": {
             "marker": {
              "color": "#000033"
             }
            },
            "increasing": {
             "marker": {
              "color": "#000032"
             }
            },
            "totals": {
             "marker": {
              "color": "#000034"
             }
            },
            "type": "waterfall"
           }
          ]
         },
         "layout": {
          "coloraxis": {
           "colorscale": [
            [
             0,
             "#000011"
            ],
            [
             0.1111111111111111,
             "#000012"
            ],
            [
             0.2222222222222222,
             "#000013"
            ],
            [
             0.3333333333333333,
             "#000014"
            ],
            [
             0.4444444444444444,
             "#000015"
            ],
            [
             0.5555555555555556,
             "#000016"
            ],
            [
             0.6666666666666666,
             "#000017"
            ],
            [
             0.7777777777777778,
             "#000018"
            ],
            [
             0.8888888888888888,
             "#000019"
            ],
            [
             1,
             "#000020"
            ]
           ]
          },
          "colorscale": {
           "diverging": [
            [
             0,
             "#000021"
            ],
            [
             0.1,
             "#000022"
            ],
            [
             0.2,
             "#000023"
            ],
            [
             0.3,
             "#000024"
            ],
            [
             0.4,
             "#000025"
            ],
            [
             0.5,
             "#000026"
            ],
            [
             0.6,
             "#000027"
            ],
            [
             0.7,
             "#000028"
            ],
            [
             0.8,
             "#000029"
            ],
            [
             0.9,
             "#000030"
            ],
            [
             1,
             "#000031"
            ]
           ],
           "sequential": [
            [
             0,
             "#000011"
            ],
            [
             0.1111111111111111,
             "#000012"
            ],
            [
             0.2222222222222222,
             "#000013"
            ],
            [
             0.3333333333333333,
             "#000014"
            ],
            [
             0.4444444444444444,
             "#000015"
            ],
            [
             0.5555555555555556,
             "#000016"
            ],
            [
             0.6666666666666666,
             "#000017"
            ],
            [
             0.7777777777777778,
             "#000018"
            ],
            [
             0.8888888888888888,
             "#000019"
            ],
            [
             1,
             "#000020"
            ]
           ],
           "sequentialminus": [
            [
             0,
             "#000011"
            ],
            [
             0.1111111111111111,
             "#000012"
            ],
            [
             0.2222222222222222,
             "#000013"
            ],
            [
             0.3333333333333333,
             "#000014"
            ],
            [
             0.4444444444444444,
             "#000015"
            ],
            [
             0.5555555555555556,
             "#000016"
            ],
            [
             0.6666666666666666,
             "#000017"
            ],
            [
             0.7777777777777778,
             "#000018"
            ],
            [
             0.8888888888888888,
             "#000019"
            ],
            [
             1,
             "#000020"
            ]
           ]
          },
          "colorway": [
           "#000001",
           "#000002",
           "#000003",
           "#000004",
           "#000005",
           "#000006",
           "#000007",
           "#000008",
           "#000009",
           "#000010"
          ]
         }
        },
        "xaxis": {
         "anchor": "y",
         "domain": [
          0,
          1
         ],
         "title": {
          "text": "property_type"
         }
        },
        "yaxis": {
         "anchor": "x",
         "domain": [
          0,
          1
         ],
         "title": {
          "text": "percentage"
         }
        }
       }
      }
     },
     "metadata": {},
     "output_type": "display_data"
    }
   ],
   "source": [
    "country = 'United States'\n",
    "market = 'New York'\n",
    "\n",
    "add_data = pd.read_csv('address.csv')\n",
    "add_df = pd.DataFrame(add_data)\n",
    "\n",
    "result = add_df[(add_df['country']==country)&\n",
    "                       (add_df['market']==market)]\n",
    "merged_df = pd.merge(df,result, on = '_id', how = 'inner')\n",
    "total_property_market = merged_df['property_type'].value_counts().to_frame().reset_index()\n",
    "per_sum = total_property_market['count'].sum()\n",
    "for i in range(total_property_market.shape[0]):\n",
    "    total_property_market.loc[i,'percentage'] = round((total_property_market.loc[i,'count']/per_sum)*100,2)\n",
    "\n",
    "color_sequence = px.colors.qualitative.Plotly\n",
    "fig = px.bar(data_frame = total_property_market,\n",
    "            x = 'property_type',\n",
    "            y = 'percentage',\n",
    "            hover_data = 'count',\n",
    "            text = 'percentage',\n",
    "            color_discrete_sequence=color_sequence\n",
    "            )\n",
    "fig\n"
   ]
  },
  {
   "cell_type": "code",
   "execution_count": 17,
   "metadata": {},
   "outputs": [],
   "source": [
    "room_type = merged_df['room_type'].value_counts().to_frame().reset_index()"
   ]
  },
  {
   "cell_type": "code",
   "execution_count": 23,
   "metadata": {},
   "outputs": [
    {
     "ename": "ValueError",
     "evalue": "Mime type rendering requires nbformat>=4.2.0 but it is not installed",
     "output_type": "error",
     "traceback": [
      "\u001b[1;31m---------------------------------------------------------------------------\u001b[0m",
      "\u001b[1;31mValueError\u001b[0m                                Traceback (most recent call last)",
      "File \u001b[1;32md:\\airbnb\\venv\\Lib\\site-packages\\IPython\\core\\formatters.py:925\u001b[0m, in \u001b[0;36mIPythonDisplayFormatter.__call__\u001b[1;34m(self, obj)\u001b[0m\n\u001b[0;32m    923\u001b[0m method \u001b[38;5;241m=\u001b[39m get_real_method(obj, \u001b[38;5;28mself\u001b[39m\u001b[38;5;241m.\u001b[39mprint_method)\n\u001b[0;32m    924\u001b[0m \u001b[38;5;28;01mif\u001b[39;00m method \u001b[38;5;129;01mis\u001b[39;00m \u001b[38;5;129;01mnot\u001b[39;00m \u001b[38;5;28;01mNone\u001b[39;00m:\n\u001b[1;32m--> 925\u001b[0m     \u001b[43mmethod\u001b[49m\u001b[43m(\u001b[49m\u001b[43m)\u001b[49m\n\u001b[0;32m    926\u001b[0m     \u001b[38;5;28;01mreturn\u001b[39;00m \u001b[38;5;28;01mTrue\u001b[39;00m\n",
      "File \u001b[1;32md:\\airbnb\\venv\\Lib\\site-packages\\plotly\\basedatatypes.py:832\u001b[0m, in \u001b[0;36mBaseFigure._ipython_display_\u001b[1;34m(self)\u001b[0m\n\u001b[0;32m    829\u001b[0m \u001b[38;5;28;01mimport\u001b[39;00m \u001b[38;5;21;01mplotly\u001b[39;00m\u001b[38;5;21;01m.\u001b[39;00m\u001b[38;5;21;01mio\u001b[39;00m \u001b[38;5;28;01mas\u001b[39;00m \u001b[38;5;21;01mpio\u001b[39;00m\n\u001b[0;32m    831\u001b[0m \u001b[38;5;28;01mif\u001b[39;00m pio\u001b[38;5;241m.\u001b[39mrenderers\u001b[38;5;241m.\u001b[39mrender_on_display \u001b[38;5;129;01mand\u001b[39;00m pio\u001b[38;5;241m.\u001b[39mrenderers\u001b[38;5;241m.\u001b[39mdefault:\n\u001b[1;32m--> 832\u001b[0m     \u001b[43mpio\u001b[49m\u001b[38;5;241;43m.\u001b[39;49m\u001b[43mshow\u001b[49m\u001b[43m(\u001b[49m\u001b[38;5;28;43mself\u001b[39;49m\u001b[43m)\u001b[49m\n\u001b[0;32m    833\u001b[0m \u001b[38;5;28;01melse\u001b[39;00m:\n\u001b[0;32m    834\u001b[0m     \u001b[38;5;28mprint\u001b[39m(\u001b[38;5;28mrepr\u001b[39m(\u001b[38;5;28mself\u001b[39m))\n",
      "File \u001b[1;32md:\\airbnb\\venv\\Lib\\site-packages\\plotly\\io\\_renderers.py:394\u001b[0m, in \u001b[0;36mshow\u001b[1;34m(fig, renderer, validate, **kwargs)\u001b[0m\n\u001b[0;32m    389\u001b[0m         \u001b[38;5;28;01mraise\u001b[39;00m \u001b[38;5;167;01mValueError\u001b[39;00m(\n\u001b[0;32m    390\u001b[0m             \u001b[38;5;124m\"\u001b[39m\u001b[38;5;124mMime type rendering requires ipython but it is not installed\u001b[39m\u001b[38;5;124m\"\u001b[39m\n\u001b[0;32m    391\u001b[0m         )\n\u001b[0;32m    393\u001b[0m     \u001b[38;5;28;01mif\u001b[39;00m \u001b[38;5;129;01mnot\u001b[39;00m nbformat \u001b[38;5;129;01mor\u001b[39;00m Version(nbformat\u001b[38;5;241m.\u001b[39m__version__) \u001b[38;5;241m<\u001b[39m Version(\u001b[38;5;124m\"\u001b[39m\u001b[38;5;124m4.2.0\u001b[39m\u001b[38;5;124m\"\u001b[39m):\n\u001b[1;32m--> 394\u001b[0m         \u001b[38;5;28;01mraise\u001b[39;00m \u001b[38;5;167;01mValueError\u001b[39;00m(\n\u001b[0;32m    395\u001b[0m             \u001b[38;5;124m\"\u001b[39m\u001b[38;5;124mMime type rendering requires nbformat>=4.2.0 but it is not installed\u001b[39m\u001b[38;5;124m\"\u001b[39m\n\u001b[0;32m    396\u001b[0m         )\n\u001b[0;32m    398\u001b[0m     ipython_display\u001b[38;5;241m.\u001b[39mdisplay(bundle, raw\u001b[38;5;241m=\u001b[39m\u001b[38;5;28;01mTrue\u001b[39;00m)\n\u001b[0;32m    400\u001b[0m \u001b[38;5;66;03m# external renderers\u001b[39;00m\n",
      "\u001b[1;31mValueError\u001b[0m: Mime type rendering requires nbformat>=4.2.0 but it is not installed"
     ]
    },
    {
     "data": {
      "application/vnd.plotly.v1+json": {
       "config": {
        "plotlyServerURL": "https://plot.ly"
       },
       "data": [
        {
         "alignmentgroup": "True",
         "hovertemplate": "room_type=%{x}<br>count=%{y}<extra></extra>",
         "legendgroup": "Entire home/apt",
         "marker": {
          "color": "orange",
          "pattern": {
           "shape": ""
          }
         },
         "name": "Entire home/apt",
         "offsetgroup": "Entire home/apt",
         "orientation": "v",
         "showlegend": true,
         "textposition": "auto",
         "texttemplate": "%{y}",
         "type": "bar",
         "x": [
          "Entire home/apt"
         ],
         "xaxis": "x",
         "y": [
          96
         ],
         "yaxis": "y"
        },
        {
         "alignmentgroup": "True",
         "hovertemplate": "room_type=%{x}<br>count=%{y}<extra></extra>",
         "legendgroup": "Private room",
         "marker": {
          "color": "blue",
          "pattern": {
           "shape": ""
          }
         },
         "name": "Private room",
         "offsetgroup": "Private room",
         "orientation": "v",
         "showlegend": true,
         "textposition": "auto",
         "texttemplate": "%{y}",
         "type": "bar",
         "x": [
          "Private room"
         ],
         "xaxis": "x",
         "y": [
          49
         ],
         "yaxis": "y"
        },
        {
         "alignmentgroup": "True",
         "hovertemplate": "room_type=%{x}<br>count=%{y}<extra></extra>",
         "legendgroup": "Shared room",
         "marker": {
          "color": "green",
          "pattern": {
           "shape": ""
          }
         },
         "name": "Shared room",
         "offsetgroup": "Shared room",
         "orientation": "v",
         "showlegend": true,
         "textposition": "auto",
         "texttemplate": "%{y}",
         "type": "bar",
         "x": [
          "Shared room"
         ],
         "xaxis": "x",
         "y": [
          2
         ],
         "yaxis": "y"
        }
       ],
       "layout": {
        "barmode": "relative",
        "legend": {
         "title": {
          "text": "room_type"
         },
         "tracegroupgap": 0
        },
        "template": {
         "data": {
          "candlestick": [
           {
            "decreasing": {
             "line": {
              "color": "#000033"
             }
            },
            "increasing": {
             "line": {
              "color": "#000032"
             }
            },
            "type": "candlestick"
           }
          ],
          "contour": [
           {
            "colorscale": [
             [
              0,
              "#000011"
             ],
             [
              0.1111111111111111,
              "#000012"
             ],
             [
              0.2222222222222222,
              "#000013"
             ],
             [
              0.3333333333333333,
              "#000014"
             ],
             [
              0.4444444444444444,
              "#000015"
             ],
             [
              0.5555555555555556,
              "#000016"
             ],
             [
              0.6666666666666666,
              "#000017"
             ],
             [
              0.7777777777777778,
              "#000018"
             ],
             [
              0.8888888888888888,
              "#000019"
             ],
             [
              1,
              "#000020"
             ]
            ],
            "type": "contour"
           }
          ],
          "contourcarpet": [
           {
            "colorscale": [
             [
              0,
              "#000011"
             ],
             [
              0.1111111111111111,
              "#000012"
             ],
             [
              0.2222222222222222,
              "#000013"
             ],
             [
              0.3333333333333333,
              "#000014"
             ],
             [
              0.4444444444444444,
              "#000015"
             ],
             [
              0.5555555555555556,
              "#000016"
             ],
             [
              0.6666666666666666,
              "#000017"
             ],
             [
              0.7777777777777778,
              "#000018"
             ],
             [
              0.8888888888888888,
              "#000019"
             ],
             [
              1,
              "#000020"
             ]
            ],
            "type": "contourcarpet"
           }
          ],
          "heatmap": [
           {
            "colorscale": [
             [
              0,
              "#000011"
             ],
             [
              0.1111111111111111,
              "#000012"
             ],
             [
              0.2222222222222222,
              "#000013"
             ],
             [
              0.3333333333333333,
              "#000014"
             ],
             [
              0.4444444444444444,
              "#000015"
             ],
             [
              0.5555555555555556,
              "#000016"
             ],
             [
              0.6666666666666666,
              "#000017"
             ],
             [
              0.7777777777777778,
              "#000018"
             ],
             [
              0.8888888888888888,
              "#000019"
             ],
             [
              1,
              "#000020"
             ]
            ],
            "type": "heatmap"
           }
          ],
          "histogram2d": [
           {
            "colorscale": [
             [
              0,
              "#000011"
             ],
             [
              0.1111111111111111,
              "#000012"
             ],
             [
              0.2222222222222222,
              "#000013"
             ],
             [
              0.3333333333333333,
              "#000014"
             ],
             [
              0.4444444444444444,
              "#000015"
             ],
             [
              0.5555555555555556,
              "#000016"
             ],
             [
              0.6666666666666666,
              "#000017"
             ],
             [
              0.7777777777777778,
              "#000018"
             ],
             [
              0.8888888888888888,
              "#000019"
             ],
             [
              1,
              "#000020"
             ]
            ],
            "type": "histogram2d"
           }
          ],
          "icicle": [
           {
            "textfont": {
             "color": "white"
            },
            "type": "icicle"
           }
          ],
          "sankey": [
           {
            "textfont": {
             "color": "#000036"
            },
            "type": "sankey"
           }
          ],
          "scatter": [
           {
            "marker": {
             "line": {
              "width": 0
             }
            },
            "type": "scatter"
           }
          ],
          "table": [
           {
            "cells": {
             "fill": {
              "color": "#000038"
             },
             "font": {
              "color": "#000037"
             },
             "line": {
              "color": "#000039"
             }
            },
            "header": {
             "fill": {
              "color": "#000040"
             },
             "font": {
              "color": "#000036"
             },
             "line": {
              "color": "#000039"
             }
            },
            "type": "table"
           }
          ],
          "waterfall": [
           {
            "connector": {
             "line": {
              "color": "#000036",
              "width": 2
             }
            },
            "decreasing": {
             "marker": {
              "color": "#000033"
             }
            },
            "increasing": {
             "marker": {
              "color": "#000032"
             }
            },
            "totals": {
             "marker": {
              "color": "#000034"
             }
            },
            "type": "waterfall"
           }
          ]
         },
         "layout": {
          "coloraxis": {
           "colorscale": [
            [
             0,
             "#000011"
            ],
            [
             0.1111111111111111,
             "#000012"
            ],
            [
             0.2222222222222222,
             "#000013"
            ],
            [
             0.3333333333333333,
             "#000014"
            ],
            [
             0.4444444444444444,
             "#000015"
            ],
            [
             0.5555555555555556,
             "#000016"
            ],
            [
             0.6666666666666666,
             "#000017"
            ],
            [
             0.7777777777777778,
             "#000018"
            ],
            [
             0.8888888888888888,
             "#000019"
            ],
            [
             1,
             "#000020"
            ]
           ]
          },
          "colorscale": {
           "diverging": [
            [
             0,
             "#000021"
            ],
            [
             0.1,
             "#000022"
            ],
            [
             0.2,
             "#000023"
            ],
            [
             0.3,
             "#000024"
            ],
            [
             0.4,
             "#000025"
            ],
            [
             0.5,
             "#000026"
            ],
            [
             0.6,
             "#000027"
            ],
            [
             0.7,
             "#000028"
            ],
            [
             0.8,
             "#000029"
            ],
            [
             0.9,
             "#000030"
            ],
            [
             1,
             "#000031"
            ]
           ],
           "sequential": [
            [
             0,
             "#000011"
            ],
            [
             0.1111111111111111,
             "#000012"
            ],
            [
             0.2222222222222222,
             "#000013"
            ],
            [
             0.3333333333333333,
             "#000014"
            ],
            [
             0.4444444444444444,
             "#000015"
            ],
            [
             0.5555555555555556,
             "#000016"
            ],
            [
             0.6666666666666666,
             "#000017"
            ],
            [
             0.7777777777777778,
             "#000018"
            ],
            [
             0.8888888888888888,
             "#000019"
            ],
            [
             1,
             "#000020"
            ]
           ],
           "sequentialminus": [
            [
             0,
             "#000011"
            ],
            [
             0.1111111111111111,
             "#000012"
            ],
            [
             0.2222222222222222,
             "#000013"
            ],
            [
             0.3333333333333333,
             "#000014"
            ],
            [
             0.4444444444444444,
             "#000015"
            ],
            [
             0.5555555555555556,
             "#000016"
            ],
            [
             0.6666666666666666,
             "#000017"
            ],
            [
             0.7777777777777778,
             "#000018"
            ],
            [
             0.8888888888888888,
             "#000019"
            ],
            [
             1,
             "#000020"
            ]
           ]
          },
          "colorway": [
           "#000001",
           "#000002",
           "#000003",
           "#000004",
           "#000005",
           "#000006",
           "#000007",
           "#000008",
           "#000009",
           "#000010"
          ]
         }
        },
        "title": {
         "text": "Room Type"
        },
        "xaxis": {
         "anchor": "y",
         "categoryarray": [
          "Entire home/apt",
          "Private room",
          "Shared room"
         ],
         "categoryorder": "array",
         "domain": [
          0,
          1
         ],
         "title": {
          "text": "room_type"
         }
        },
        "yaxis": {
         "anchor": "x",
         "domain": [
          0,
          1
         ],
         "title": {
          "text": "count"
         }
        }
       }
      },
      "text/html": [
       "<div>                        <script type=\"text/javascript\">window.PlotlyConfig = {MathJaxConfig: 'local'};</script>\n",
       "        <script charset=\"utf-8\" src=\"https://cdn.plot.ly/plotly-2.34.0.min.js\"></script>                <div id=\"915f1238-525f-42f3-a12e-b23bf75247c1\" class=\"plotly-graph-div\" style=\"height:100%; width:100%;\"></div>            <script type=\"text/javascript\">                                    window.PLOTLYENV=window.PLOTLYENV || {};                                    if (document.getElementById(\"915f1238-525f-42f3-a12e-b23bf75247c1\")) {                    Plotly.newPlot(                        \"915f1238-525f-42f3-a12e-b23bf75247c1\",                        [{\"alignmentgroup\":\"True\",\"hovertemplate\":\"room_type=%{x}\\u003cbr\\u003ecount=%{y}\\u003cextra\\u003e\\u003c\\u002fextra\\u003e\",\"legendgroup\":\"Entire home\\u002fapt\",\"marker\":{\"color\":\"orange\",\"pattern\":{\"shape\":\"\"}},\"name\":\"Entire home\\u002fapt\",\"offsetgroup\":\"Entire home\\u002fapt\",\"orientation\":\"v\",\"showlegend\":true,\"textposition\":\"auto\",\"texttemplate\":\"%{y}\",\"x\":[\"Entire home\\u002fapt\"],\"xaxis\":\"x\",\"y\":[96],\"yaxis\":\"y\",\"type\":\"bar\"},{\"alignmentgroup\":\"True\",\"hovertemplate\":\"room_type=%{x}\\u003cbr\\u003ecount=%{y}\\u003cextra\\u003e\\u003c\\u002fextra\\u003e\",\"legendgroup\":\"Private room\",\"marker\":{\"color\":\"blue\",\"pattern\":{\"shape\":\"\"}},\"name\":\"Private room\",\"offsetgroup\":\"Private room\",\"orientation\":\"v\",\"showlegend\":true,\"textposition\":\"auto\",\"texttemplate\":\"%{y}\",\"x\":[\"Private room\"],\"xaxis\":\"x\",\"y\":[49],\"yaxis\":\"y\",\"type\":\"bar\"},{\"alignmentgroup\":\"True\",\"hovertemplate\":\"room_type=%{x}\\u003cbr\\u003ecount=%{y}\\u003cextra\\u003e\\u003c\\u002fextra\\u003e\",\"legendgroup\":\"Shared room\",\"marker\":{\"color\":\"green\",\"pattern\":{\"shape\":\"\"}},\"name\":\"Shared room\",\"offsetgroup\":\"Shared room\",\"orientation\":\"v\",\"showlegend\":true,\"textposition\":\"auto\",\"texttemplate\":\"%{y}\",\"x\":[\"Shared room\"],\"xaxis\":\"x\",\"y\":[2],\"yaxis\":\"y\",\"type\":\"bar\"}],                        {\"template\":{\"data\":{\"candlestick\":[{\"decreasing\":{\"line\":{\"color\":\"#000033\"}},\"increasing\":{\"line\":{\"color\":\"#000032\"}},\"type\":\"candlestick\"}],\"contourcarpet\":[{\"colorscale\":[[0.0,\"#000011\"],[0.1111111111111111,\"#000012\"],[0.2222222222222222,\"#000013\"],[0.3333333333333333,\"#000014\"],[0.4444444444444444,\"#000015\"],[0.5555555555555556,\"#000016\"],[0.6666666666666666,\"#000017\"],[0.7777777777777778,\"#000018\"],[0.8888888888888888,\"#000019\"],[1.0,\"#000020\"]],\"type\":\"contourcarpet\"}],\"contour\":[{\"colorscale\":[[0.0,\"#000011\"],[0.1111111111111111,\"#000012\"],[0.2222222222222222,\"#000013\"],[0.3333333333333333,\"#000014\"],[0.4444444444444444,\"#000015\"],[0.5555555555555556,\"#000016\"],[0.6666666666666666,\"#000017\"],[0.7777777777777778,\"#000018\"],[0.8888888888888888,\"#000019\"],[1.0,\"#000020\"]],\"type\":\"contour\"}],\"heatmap\":[{\"colorscale\":[[0.0,\"#000011\"],[0.1111111111111111,\"#000012\"],[0.2222222222222222,\"#000013\"],[0.3333333333333333,\"#000014\"],[0.4444444444444444,\"#000015\"],[0.5555555555555556,\"#000016\"],[0.6666666666666666,\"#000017\"],[0.7777777777777778,\"#000018\"],[0.8888888888888888,\"#000019\"],[1.0,\"#000020\"]],\"type\":\"heatmap\"}],\"histogram2d\":[{\"colorscale\":[[0.0,\"#000011\"],[0.1111111111111111,\"#000012\"],[0.2222222222222222,\"#000013\"],[0.3333333333333333,\"#000014\"],[0.4444444444444444,\"#000015\"],[0.5555555555555556,\"#000016\"],[0.6666666666666666,\"#000017\"],[0.7777777777777778,\"#000018\"],[0.8888888888888888,\"#000019\"],[1.0,\"#000020\"]],\"type\":\"histogram2d\"}],\"icicle\":[{\"textfont\":{\"color\":\"white\"},\"type\":\"icicle\"}],\"sankey\":[{\"textfont\":{\"color\":\"#000036\"},\"type\":\"sankey\"}],\"scatter\":[{\"marker\":{\"line\":{\"width\":0}},\"type\":\"scatter\"}],\"table\":[{\"cells\":{\"fill\":{\"color\":\"#000038\"},\"font\":{\"color\":\"#000037\"},\"line\":{\"color\":\"#000039\"}},\"header\":{\"fill\":{\"color\":\"#000040\"},\"font\":{\"color\":\"#000036\"},\"line\":{\"color\":\"#000039\"}},\"type\":\"table\"}],\"waterfall\":[{\"connector\":{\"line\":{\"color\":\"#000036\",\"width\":2}},\"decreasing\":{\"marker\":{\"color\":\"#000033\"}},\"increasing\":{\"marker\":{\"color\":\"#000032\"}},\"totals\":{\"marker\":{\"color\":\"#000034\"}},\"type\":\"waterfall\"}]},\"layout\":{\"coloraxis\":{\"colorscale\":[[0.0,\"#000011\"],[0.1111111111111111,\"#000012\"],[0.2222222222222222,\"#000013\"],[0.3333333333333333,\"#000014\"],[0.4444444444444444,\"#000015\"],[0.5555555555555556,\"#000016\"],[0.6666666666666666,\"#000017\"],[0.7777777777777778,\"#000018\"],[0.8888888888888888,\"#000019\"],[1.0,\"#000020\"]]},\"colorscale\":{\"diverging\":[[0.0,\"#000021\"],[0.1,\"#000022\"],[0.2,\"#000023\"],[0.3,\"#000024\"],[0.4,\"#000025\"],[0.5,\"#000026\"],[0.6,\"#000027\"],[0.7,\"#000028\"],[0.8,\"#000029\"],[0.9,\"#000030\"],[1.0,\"#000031\"]],\"sequential\":[[0.0,\"#000011\"],[0.1111111111111111,\"#000012\"],[0.2222222222222222,\"#000013\"],[0.3333333333333333,\"#000014\"],[0.4444444444444444,\"#000015\"],[0.5555555555555556,\"#000016\"],[0.6666666666666666,\"#000017\"],[0.7777777777777778,\"#000018\"],[0.8888888888888888,\"#000019\"],[1.0,\"#000020\"]],\"sequentialminus\":[[0.0,\"#000011\"],[0.1111111111111111,\"#000012\"],[0.2222222222222222,\"#000013\"],[0.3333333333333333,\"#000014\"],[0.4444444444444444,\"#000015\"],[0.5555555555555556,\"#000016\"],[0.6666666666666666,\"#000017\"],[0.7777777777777778,\"#000018\"],[0.8888888888888888,\"#000019\"],[1.0,\"#000020\"]]},\"colorway\":[\"#000001\",\"#000002\",\"#000003\",\"#000004\",\"#000005\",\"#000006\",\"#000007\",\"#000008\",\"#000009\",\"#000010\"]}},\"xaxis\":{\"anchor\":\"y\",\"domain\":[0.0,1.0],\"title\":{\"text\":\"room_type\"},\"categoryorder\":\"array\",\"categoryarray\":[\"Entire home\\u002fapt\",\"Private room\",\"Shared room\"]},\"yaxis\":{\"anchor\":\"x\",\"domain\":[0.0,1.0],\"title\":{\"text\":\"count\"}},\"legend\":{\"title\":{\"text\":\"room_type\"},\"tracegroupgap\":0},\"title\":{\"text\":\"Room Type\"},\"barmode\":\"relative\"},                        {\"responsive\": true}                    )                };                            </script>        </div>"
      ],
      "text/plain": [
       "Figure({\n",
       "    'data': [{'alignmentgroup': 'True',\n",
       "              'hovertemplate': 'room_type=%{x}<br>count=%{y}<extra></extra>',\n",
       "              'legendgroup': 'Entire home/apt',\n",
       "              'marker': {'color': 'orange', 'pattern': {'shape': ''}},\n",
       "              'name': 'Entire home/apt',\n",
       "              'offsetgroup': 'Entire home/apt',\n",
       "              'orientation': 'v',\n",
       "              'showlegend': True,\n",
       "              'textposition': 'auto',\n",
       "              'texttemplate': '%{y}',\n",
       "              'type': 'bar',\n",
       "              'x': array(['Entire home/apt'], dtype=object),\n",
       "              'xaxis': 'x',\n",
       "              'y': array([96]),\n",
       "              'yaxis': 'y'},\n",
       "             {'alignmentgroup': 'True',\n",
       "              'hovertemplate': 'room_type=%{x}<br>count=%{y}<extra></extra>',\n",
       "              'legendgroup': 'Private room',\n",
       "              'marker': {'color': 'blue', 'pattern': {'shape': ''}},\n",
       "              'name': 'Private room',\n",
       "              'offsetgroup': 'Private room',\n",
       "              'orientation': 'v',\n",
       "              'showlegend': True,\n",
       "              'textposition': 'auto',\n",
       "              'texttemplate': '%{y}',\n",
       "              'type': 'bar',\n",
       "              'x': array(['Private room'], dtype=object),\n",
       "              'xaxis': 'x',\n",
       "              'y': array([49]),\n",
       "              'yaxis': 'y'},\n",
       "             {'alignmentgroup': 'True',\n",
       "              'hovertemplate': 'room_type=%{x}<br>count=%{y}<extra></extra>',\n",
       "              'legendgroup': 'Shared room',\n",
       "              'marker': {'color': 'green', 'pattern': {'shape': ''}},\n",
       "              'name': 'Shared room',\n",
       "              'offsetgroup': 'Shared room',\n",
       "              'orientation': 'v',\n",
       "              'showlegend': True,\n",
       "              'textposition': 'auto',\n",
       "              'texttemplate': '%{y}',\n",
       "              'type': 'bar',\n",
       "              'x': array(['Shared room'], dtype=object),\n",
       "              'xaxis': 'x',\n",
       "              'y': array([2]),\n",
       "              'yaxis': 'y'}],\n",
       "    'layout': {'barmode': 'relative',\n",
       "               'legend': {'title': {'text': 'room_type'}, 'tracegroupgap': 0},\n",
       "               'template': '...',\n",
       "               'title': {'text': 'Room Type'},\n",
       "               'xaxis': {'anchor': 'y',\n",
       "                         'categoryarray': [Entire home/apt, Private room, Shared\n",
       "                                           room],\n",
       "                         'categoryorder': 'array',\n",
       "                         'domain': [0.0, 1.0],\n",
       "                         'title': {'text': 'room_type'}},\n",
       "               'yaxis': {'anchor': 'x', 'domain': [0.0, 1.0], 'title': {'text': 'count'}}}\n",
       "})"
      ]
     },
     "execution_count": 23,
     "metadata": {},
     "output_type": "execute_result"
    }
   ],
   "source": [
    "fig = px.bar(\n",
    "    data_frame = room_type,\n",
    "    x = 'room_type',\n",
    "    y = 'count',\n",
    "    color = 'room_type',\n",
    "    color_discrete_sequence=['orange', 'blue', 'green','yellow','purple'],\n",
    "    title = 'Room Type',\n",
    "    text_auto = True\n",
    ")\n",
    "fig"
   ]
  },
  {
   "cell_type": "code",
   "execution_count": 7,
   "metadata": {},
   "outputs": [
    {
     "data": {
      "text/plain": [
       "bed_type\n",
       "Real Bed         143\n",
       "Airbed             1\n",
       "Futon              1\n",
       "Pull-out Sofa      1\n",
       "Couch              1\n",
       "Name: count, dtype: int64"
      ]
     },
     "execution_count": 7,
     "metadata": {},
     "output_type": "execute_result"
    }
   ],
   "source": [
    "merged_df['bed_type'].value_counts()"
   ]
  },
  {
   "cell_type": "code",
   "execution_count": 9,
   "metadata": {},
   "outputs": [
    {
     "data": {
      "text/plain": [
       "minimum_nights\n",
       "2       32\n",
       "1       26\n",
       "3       25\n",
       "30      20\n",
       "4       15\n",
       "5       11\n",
       "7        5\n",
       "6        4\n",
       "10       2\n",
       "14       2\n",
       "12       1\n",
       "40       1\n",
       "8        1\n",
       "1250     1\n",
       "45       1\n",
       "Name: count, dtype: int64"
      ]
     },
     "execution_count": 9,
     "metadata": {},
     "output_type": "execute_result"
    }
   ],
   "source": [
    "merged_df['minimum_nights'].value_counts()"
   ]
  },
  {
   "cell_type": "code",
   "execution_count": 11,
   "metadata": {},
   "outputs": [
    {
     "data": {
      "text/html": [
       "<div>\n",
       "<style scoped>\n",
       "    .dataframe tbody tr th:only-of-type {\n",
       "        vertical-align: middle;\n",
       "    }\n",
       "\n",
       "    .dataframe tbody tr th {\n",
       "        vertical-align: top;\n",
       "    }\n",
       "\n",
       "    .dataframe thead th {\n",
       "        text-align: right;\n",
       "    }\n",
       "</style>\n",
       "<table border=\"1\" class=\"dataframe\">\n",
       "  <thead>\n",
       "    <tr style=\"text-align: right;\">\n",
       "      <th></th>\n",
       "      <th>_id</th>\n",
       "      <th>listing_url</th>\n",
       "      <th>name</th>\n",
       "      <th>summary</th>\n",
       "      <th>space</th>\n",
       "      <th>description</th>\n",
       "      <th>neighborhood_overview</th>\n",
       "      <th>notes</th>\n",
       "      <th>transit</th>\n",
       "      <th>access</th>\n",
       "      <th>...</th>\n",
       "      <th>overall_rating</th>\n",
       "      <th>Unnamed: 0</th>\n",
       "      <th>street</th>\n",
       "      <th>suburb</th>\n",
       "      <th>government_area</th>\n",
       "      <th>market</th>\n",
       "      <th>country</th>\n",
       "      <th>country_code</th>\n",
       "      <th>longitude</th>\n",
       "      <th>latitude</th>\n",
       "    </tr>\n",
       "  </thead>\n",
       "  <tbody>\n",
       "    <tr>\n",
       "      <th>93</th>\n",
       "      <td>4204302</td>\n",
       "      <td>https://www.airbnb.com/rooms/4204302</td>\n",
       "      <td>Prime W. Village location 1 bdrm</td>\n",
       "      <td>A lovely clean, 1 bedroom in a prime location ...</td>\n",
       "      <td>It's a 1 bedroom in a walk up building in the ...</td>\n",
       "      <td>A lovely clean, 1 bedroom in a prime location ...</td>\n",
       "      <td>I love being close to Washington square park w...</td>\n",
       "      <td>There is wifi but no working cable TV.  You're...</td>\n",
       "      <td>Best spot in the city to get truly anywhere fr...</td>\n",
       "      <td>Fresh linens / towels provided.</td>\n",
       "      <td>...</td>\n",
       "      <td>70</td>\n",
       "      <td>4237</td>\n",
       "      <td>New York, NY, United States</td>\n",
       "      <td>Manhattan</td>\n",
       "      <td>Greenwich Village</td>\n",
       "      <td>New York</td>\n",
       "      <td>United States</td>\n",
       "      <td>US</td>\n",
       "      <td>-73.99782</td>\n",
       "      <td>40.73293</td>\n",
       "    </tr>\n",
       "  </tbody>\n",
       "</table>\n",
       "<p>1 rows × 46 columns</p>\n",
       "</div>"
      ],
      "text/plain": [
       "        _id                           listing_url  \\\n",
       "93  4204302  https://www.airbnb.com/rooms/4204302   \n",
       "\n",
       "                                name  \\\n",
       "93  Prime W. Village location 1 bdrm   \n",
       "\n",
       "                                              summary  \\\n",
       "93  A lovely clean, 1 bedroom in a prime location ...   \n",
       "\n",
       "                                                space  \\\n",
       "93  It's a 1 bedroom in a walk up building in the ...   \n",
       "\n",
       "                                          description  \\\n",
       "93  A lovely clean, 1 bedroom in a prime location ...   \n",
       "\n",
       "                                neighborhood_overview  \\\n",
       "93  I love being close to Washington square park w...   \n",
       "\n",
       "                                                notes  \\\n",
       "93  There is wifi but no working cable TV.  You're...   \n",
       "\n",
       "                                              transit  \\\n",
       "93  Best spot in the city to get truly anywhere fr...   \n",
       "\n",
       "                             access  ... overall_rating Unnamed: 0  \\\n",
       "93  Fresh linens / towels provided.  ...             70       4237   \n",
       "\n",
       "                         street     suburb    government_area    market  \\\n",
       "93  New York, NY, United States  Manhattan  Greenwich Village  New York   \n",
       "\n",
       "          country country_code longitude  latitude  \n",
       "93  United States           US -73.99782  40.73293  \n",
       "\n",
       "[1 rows x 46 columns]"
      ]
     },
     "execution_count": 11,
     "metadata": {},
     "output_type": "execute_result"
    }
   ],
   "source": [
    "merged_df[merged_df['minimum_nights'] == 1250]"
   ]
  },
  {
   "cell_type": "code",
   "execution_count": 10,
   "metadata": {},
   "outputs": [
    {
     "data": {
      "text/plain": [
       "maximum_nights\n",
       "1125          76\n",
       "30             9\n",
       "365            9\n",
       "60             5\n",
       "7              4\n",
       "1124           4\n",
       "14             4\n",
       "21             3\n",
       "29             3\n",
       "6              3\n",
       "180            2\n",
       "90             2\n",
       "20             2\n",
       "28             2\n",
       "27             2\n",
       "10             2\n",
       "31             1\n",
       "730            1\n",
       "360            1\n",
       "9              1\n",
       "2147483647     1\n",
       "70             1\n",
       "120            1\n",
       "26             1\n",
       "11             1\n",
       "366            1\n",
       "1250           1\n",
       "760            1\n",
       "12             1\n",
       "65             1\n",
       "1000           1\n",
       "Name: count, dtype: int64"
      ]
     },
     "execution_count": 10,
     "metadata": {},
     "output_type": "execute_result"
    }
   ],
   "source": [
    "merged_df['maximum_nights'].value_counts()"
   ]
  },
  {
   "cell_type": "code",
   "execution_count": 12,
   "metadata": {},
   "outputs": [
    {
     "data": {
      "text/plain": [
       "cancellation_policy\n",
       "strict_14_with_grace_period    84\n",
       "flexible                       33\n",
       "moderate                       30\n",
       "Name: count, dtype: int64"
      ]
     },
     "execution_count": 12,
     "metadata": {},
     "output_type": "execute_result"
    }
   ],
   "source": [
    "merged_df['cancellation_policy'].value_counts()"
   ]
  },
  {
   "cell_type": "code",
   "execution_count": 13,
   "metadata": {},
   "outputs": [
    {
     "data": {
      "text/plain": [
       "bedrooms\n",
       "1.0    98\n",
       "0.0    22\n",
       "2.0    22\n",
       "3.0     3\n",
       "4.0     2\n",
       "Name: count, dtype: int64"
      ]
     },
     "execution_count": 13,
     "metadata": {},
     "output_type": "execute_result"
    }
   ],
   "source": [
    "merged_df['bedrooms'].value_counts()"
   ]
  },
  {
   "cell_type": "code",
   "execution_count": 14,
   "metadata": {},
   "outputs": [
    {
     "data": {
      "text/plain": [
       "beds\n",
       "1.0    87\n",
       "2.0    35\n",
       "3.0    10\n",
       "4.0     6\n",
       "0.0     6\n",
       "5.0     2\n",
       "6.0     1\n",
       "Name: count, dtype: int64"
      ]
     },
     "execution_count": 14,
     "metadata": {},
     "output_type": "execute_result"
    }
   ],
   "source": [
    "merged_df['beds'].value_counts()"
   ]
  },
  {
   "cell_type": "code",
   "execution_count": 30,
   "metadata": {},
   "outputs": [
    {
     "data": {
      "text/plain": [
       "accommodates\n",
       "2     64\n",
       "3     23\n",
       "4     23\n",
       "1     22\n",
       "5      7\n",
       "7      4\n",
       "6      2\n",
       "9      1\n",
       "10     1\n",
       "Name: count, dtype: int64"
      ]
     },
     "execution_count": 30,
     "metadata": {},
     "output_type": "execute_result"
    }
   ],
   "source": [
    "merged_df['accommodates'].value_counts()"
   ]
  },
  {
   "cell_type": "code",
   "execution_count": 32,
   "metadata": {},
   "outputs": [
    {
     "data": {
      "text/plain": [
       "guests_included\n",
       "1    93\n",
       "2    40\n",
       "4     5\n",
       "5     4\n",
       "6     2\n",
       "3     2\n",
       "7     1\n",
       "Name: count, dtype: int64"
      ]
     },
     "execution_count": 32,
     "metadata": {},
     "output_type": "execute_result"
    }
   ],
   "source": [
    "merged_df['guests_included'].value_counts()"
   ]
  },
  {
   "cell_type": "code",
   "execution_count": 33,
   "metadata": {},
   "outputs": [
    {
     "data": {
      "text/plain": [
       "extra_people\n",
       "0      83\n",
       "25     12\n",
       "50     10\n",
       "20      9\n",
       "10      6\n",
       "15      5\n",
       "35      4\n",
       "100     3\n",
       "30      3\n",
       "40      2\n",
       "45      2\n",
       "55      1\n",
       "19      1\n",
       "70      1\n",
       "5       1\n",
       "175     1\n",
       "75      1\n",
       "80      1\n",
       "150     1\n",
       "Name: count, dtype: int64"
      ]
     },
     "execution_count": 33,
     "metadata": {},
     "output_type": "execute_result"
    }
   ],
   "source": [
    "merged_df['extra_people'].value_counts()"
   ]
  },
  {
   "cell_type": "code",
   "execution_count": 40,
   "metadata": {},
   "outputs": [
    {
     "data": {
      "text/plain": [
       "overall_rating\n",
       "100          25\n",
       "No rating    16\n",
       "97           13\n",
       "98           12\n",
       "95           10\n",
       "94            9\n",
       "96            8\n",
       "92            8\n",
       "89            5\n",
       "93            5\n",
       "91            5\n",
       "80            5\n",
       "90            5\n",
       "99            4\n",
       "86            3\n",
       "85            3\n",
       "87            3\n",
       "82            2\n",
       "88            2\n",
       "70            1\n",
       "69            1\n",
       "40            1\n",
       "73            1\n",
       "Name: count, dtype: int64"
      ]
     },
     "execution_count": 40,
     "metadata": {},
     "output_type": "execute_result"
    }
   ],
   "source": [
    "merged_df['overall_rating'].value_counts()\n"
   ]
  }
 ],
 "metadata": {
  "kernelspec": {
   "display_name": "venv",
   "language": "python",
   "name": "python3"
  },
  "language_info": {
   "codemirror_mode": {
    "name": "ipython",
    "version": 3
   },
   "file_extension": ".py",
   "mimetype": "text/x-python",
   "name": "python",
   "nbconvert_exporter": "python",
   "pygments_lexer": "ipython3",
   "version": "3.12.3"
  }
 },
 "nbformat": 4,
 "nbformat_minor": 2
}
